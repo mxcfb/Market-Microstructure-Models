{
 "cells": [
  {
   "cell_type": "markdown",
   "metadata": {
    "slideshow": {
     "slide_type": "slide"
    }
   },
   "source": [
    "## MTH 9879 Market Microstructure Models, Spring 2019\n",
    "\n",
    "<p>\n",
    "\n",
    "### Lecture 4: Understanding the bid-ask spread\n",
    "\n",
    "\n",
    "<p>\n",
    "Jim Gatheral   \n",
    "Department of Mathematics   \n",
    "  \n",
    "  \n",
    "<h3><img src=\"http://mfe.baruch.cuny.edu/wp-content/uploads/2016/04/MFE-Logo.jpg\" align = \"center\" width=500></h3>\n",
    "\n",
    "\n",
    "\n",
    "$$\n",
    "\\newcommand{\\bea}{\\begin{eqnarray}}\n",
    "\\newcommand{\\eea}{\\end{eqnarray}}\n",
    "\\newcommand{\\supp}{\\mathrm{supp}}\n",
    "\\newcommand{\\F}{\\mathcal{F} }\n",
    "\\newcommand{\\cF}{\\mathcal{F} }\n",
    "\\newcommand{\\E}{\\mathbb{E} }\n",
    "\\newcommand{\\Eof}[1]{\\mathbb{E}\\left[ #1 \\right]}\n",
    "\\def\\Cov{{ \\mbox{Cov} }}\n",
    "\\def\\Var{{ \\mbox{Var} }}\n",
    "\\newcommand{\\1}{\\mathbf{1} }\n",
    "\\newcommand{\\p}{\\partial}\n",
    "\\newcommand{\\PP}{\\mathbb{P} }\n",
    "\\newcommand{\\Pof}[1]{\\mathbb{P}\\left[ #1 \\right]}\n",
    "\\newcommand{\\QQ}{\\mathbb{Q} }\n",
    "\\newcommand{\\R}{\\mathbb{R} }\n",
    "\\newcommand{\\DD}{\\mathbb{D} }\n",
    "\\newcommand{\\HH}{\\mathbb{H} }\n",
    "\\newcommand{\\spn}{\\mathrm{span} }\n",
    "\\newcommand{\\cov}{\\mathrm{cov} }\n",
    "\\newcommand{\\HS}{\\mathcal{L}_{\\mathrm{HS}} }\n",
    "\\newcommand{\\Hess}{\\mathrm{Hess} }\n",
    "\\newcommand{\\trace}{\\mathrm{trace} }\n",
    "\\newcommand{\\cL}{\\mathcal{L} }\n",
    "\\newcommand{\\cG}{\\mathcal{G} }\n",
    "\\newcommand{\\cM}{\\mathcal{M} }\n",
    "\\newcommand{\\Xv}{X^{(v)}}\n",
    "\\newcommand{\\s}{\\mathcal{S} }\n",
    "\\newcommand{\\cE}{\\mathcal{E} }\n",
    "\\newcommand{\\ff}{\\mathcal{F} }\n",
    "\\newcommand{\\hh}{\\mathcal{H} }\n",
    "\\newcommand{\\bb}{\\mathcal{B} }\n",
    "\\newcommand{\\dd}{\\mathcal{D} }\n",
    "\\newcommand{\\g}{\\mathcal{G} }\n",
    "\\newcommand{\\half}{\\frac{1}{2} }\n",
    "\\newcommand{\\T}{\\mathcal{T} }\n",
    "\\newcommand{\\bit}{\\begin{itemize}}\n",
    "\\newcommand{\\eit}{\\end{itemize}}\n",
    "\\newcommand{\\beq}{\\begin{equation}}\n",
    "\\newcommand{\\eeq}{\\end{equation}}\n",
    "\\newcommand{\\beas}{\\begin{eqnarray*}}\n",
    "\\newcommand{\\eeas}{\\end{eqnarray*}}\n",
    "\\newcommand{\\tr}{\\mbox{tr}}\n",
    "\\newcommand{\\ee}[1]{{\\mathbb{E}\\left[{#1}\\right]}}\n",
    "\\newcommand{\\eef}[1]{{\\mathbb{E}\\left[\\left.{#1}\\right|\\cF_t\\right]}}\n",
    "\\newcommand{\\eefm}[2]{{\\mathbb{E}^{#2}\\left[\\left.{#1}\\right|\\cF_t\\right]}}\n",
    "\\newcommand{\\angl}[1]{{\\langle{#1}\\rangle}}\n",
    "$$\n",
    "\n",
    "\n"
   ]
  },
  {
   "cell_type": "markdown",
   "metadata": {
    "slideshow": {
     "slide_type": "slide"
    }
   },
   "source": [
    "## Outline of Lecture 4\n",
    "\n",
    "-   The Roll model\n",
    "\n",
    "-   TAQ data cleaning and trade signing\n",
    "\n",
    "-   A generalization of the Roll model\n",
    "\n",
    "-   The Glosten and Milgrom model\n",
    "\n",
    "-   The Glosten and Harris model\n",
    "\n",
    "-   The Madhavan-Richardson-Roomans model\n",
    "\n",
    "-   The Huang and Stoll model\n",
    "\n",
    "-   PIN - the probability of informed trading\n",
    "\n"
   ]
  },
  {
   "cell_type": "markdown",
   "metadata": {
    "slideshow": {
     "slide_type": "slide"
    }
   },
   "source": [
    "### The Roll model\n",
    "\n",
    "-   We think of the efficient price\n",
    "    $m_t=\\mathbb{E} [\\tilde S|\\mathcal{F} _t]$ as being the expected\n",
    "    value of the cashflows of a security, conditioning on all public\n",
    "    information.\n",
    "\n",
    "\n",
    "-   We model trade prices $p_t$ as\n",
    "\n",
    "    <a name=\"eq:Roll\"></a>(1)\n",
    "    $$p_t=m_{t}+c\\,\\epsilon_t$$\n",
    "\n",
    "    where (under competition), $c$ is the market maker($\\mathcal{M}$)’s\n",
    "    cost to trade and $\\epsilon_t=\\pm1$ is a trade sign indicator."
   ]
  },
  {
   "cell_type": "markdown",
   "metadata": {
    "slideshow": {
     "slide_type": "subslide"
    }
   },
   "source": [
    "-   We further assume that trade signs are serially independent with\n",
    "    equal probabilities of buys and sells."
   ]
  },
  {
   "cell_type": "markdown",
   "metadata": {
    "slideshow": {
     "slide_type": "slide"
    }
   },
   "source": [
    "### The Roll model\n",
    "\n",
    "Under these (very unrealistic) assumptions, we have\n",
    "\n",
    "\\begin{eqnarray*}\n",
    "\\gamma_0:=\\mbox{Var}[\\Delta p_t]&=&\\mathbb{E} [\\Delta p_t^2]\\\\\n",
    "&=&\\mathbb{E} [\\Delta m_t^2]+c^2\\,\\mbox{Var}[\\epsilon_t-\\epsilon_{t-1}]\\\\\n",
    "&=&\\sigma^2+2\\,c^2\\end{eqnarray*}\n",
    "\n",
    "where $\\sigma$ is the volatility of the stock per trade."
   ]
  },
  {
   "cell_type": "markdown",
   "metadata": {
    "slideshow": {
     "slide_type": "subslide"
    }
   },
   "source": [
    "Also,\n",
    "\n",
    "\\begin{eqnarray*}\n",
    "\\gamma_1:&=&\\mbox{Cov}[\\Delta p_{t-1},\\Delta p_t]\\\\\n",
    "&=&\\mathbb{E} [\\Delta p_{t-1}\\,\\Delta p_t]\\\\\n",
    "&=&\\mathbb{E} [\\left\\{\\Delta m_{t-1}+c\\,(\\epsilon_{t-1}-\\epsilon_{t-2})\\right\\}\\left\\{\\Delta m_{t}+c\\,(\\epsilon_{t}-\\epsilon_{t-1})\\right\\}]\\\\\n",
    "&=&-c^2\\end{eqnarray*}\n",
    "\n",
    "Higher order autocovariances are all zero.\n",
    "\n",
    "#### Note\n",
    "$\\Delta m_t$ and $\\Delta m_{t-1}$ are uncorrelated. "
   ]
  },
  {
   "cell_type": "markdown",
   "metadata": {
    "slideshow": {
     "slide_type": "slide"
    }
   },
   "source": [
    "### The Roll model\n",
    "\n",
    "We conclude that the effective half-spread is given by\n",
    "\n",
    "$$c=\\sqrt{-\\gamma_1}$$ \n",
    "and \n",
    "$$\\sigma^2=\\gamma_0+2\\,\\gamma_1.$$\n",
    "\n",
    "The first\n",
    "order autocovariance is negative because of bid-ask bounce.\n",
    "\n"
   ]
  },
  {
   "cell_type": "markdown",
   "metadata": {
    "slideshow": {
     "slide_type": "slide"
    }
   },
   "source": [
    "### Autocorrelation of BAC price changes"
   ]
  },
  {
   "cell_type": "code",
   "execution_count": 1,
   "metadata": {
    "slideshow": {
     "slide_type": "fragment"
    }
   },
   "outputs": [],
   "source": [
    "download.file(url=\"https://mfe.baruch.cuny.edu/wp-content/uploads/2018/02/tqDataBAC_20170919.zip\", destfile=\"tq.zip\")\n",
    "unzip(zipfile=\"tq.zip\")"
   ]
  },
  {
   "cell_type": "code",
   "execution_count": 2,
   "metadata": {
    "slideshow": {
     "slide_type": "fragment"
    }
   },
   "outputs": [],
   "source": [
    "load(\"tqDataBAC_20170919.rData\")\n",
    "\n",
    "Sys.setenv(TZ='EST')"
   ]
  },
  {
   "cell_type": "code",
   "execution_count": 4,
   "metadata": {
    "scrolled": true,
    "slideshow": {
     "slide_type": "fragment"
    }
   },
   "outputs": [],
   "source": [
    "library(xts)\n",
    "library(highfrequency)\n",
    "library(quantmod)\n",
    "library(repr)"
   ]
  },
  {
   "cell_type": "markdown",
   "metadata": {
    "slideshow": {
     "slide_type": "slide"
    }
   },
   "source": [
    "### Baruch data and the `highfrequency` package\n",
    "\n",
    "- The millisecond level trades and quotes data we will use is courtesy of [Professor Richard Holowcak](https://zicklin.baruch.cuny.edu/faculty-profile/richard-holowczak/) and comes from the [SIAC](http://www.essexradez.com/faq_data_feeds.html#9) feed.\n",
    "\n",
    "- In principle, we can match trades and quotes using the `highfrequency` package.\n",
    "    - Here's a description of the `highfrequency` package from the vignette:\n",
    ">Provide functionality to manage, clean and match highfrequency\n",
    "trades and quotes data, calculate various liquidity measures, estimate and\n",
    "forecast volatility, and investigate microstructure noise and intraday\n",
    "periodicity."
   ]
  },
  {
   "cell_type": "markdown",
   "metadata": {
    "slideshow": {
     "slide_type": "subslide"
    }
   },
   "source": [
    "- However, the `highfrequency` package cannot take advantage of millisecond data.  \n",
    "    - The necessary functions to deal with millisecond-level data have been recoded by Baruch undergraduate student [Suguru Kaneda](https://www.linkedin.com/in/suguru-kaneda-296886130)."
   ]
  },
  {
   "cell_type": "markdown",
   "metadata": {
    "slideshow": {
     "slide_type": "slide"
    }
   },
   "source": [
    "### What does the data look like?"
   ]
  },
  {
   "cell_type": "code",
   "execution_count": 5,
   "metadata": {
    "slideshow": {
     "slide_type": "fragment"
    }
   },
   "outputs": [
    {
     "data": {
      "text/plain": [
       "                        SYMBOL EX  PRICE    SIZE     COND BID     BIDSIZ\n",
       "2017-09-19 09:30:00.009 \"BAC\"  \"P\" \"24.7\"   \"20000\"  \" \"  \"24.72\" \"6\"   \n",
       "2017-09-19 09:30:01.361 \"BAC\"  \"T\" \"24.71\"  \"300\"    \" \"  \"24.72\" \"6\"   \n",
       "2017-09-19 09:30:01.525 \"BAC\"  \"P\" \"24.7\"   \"100\"    \" \"  \"24.72\" \"6\"   \n",
       "2017-09-19 09:30:02.990 \"BAC\"  \"N\" \"24.73\"  \"429950\" \" \"  \"24.72\" \"6\"   \n",
       "2017-09-19 09:30:02.996 \"BAC\"  \"N\" \"24.72\"  \"100\"    \" \"  \"24.72\" \"35\"  \n",
       "2017-09-19 09:30:03.006 \"BAC\"  \"T\" \"24.725\" \"200\"    \" \"  \"24.72\" \"9\"   \n",
       "                        OFR     OFRSIZ\n",
       "2017-09-19 09:30:00.009 \"24.74\" \"100\" \n",
       "2017-09-19 09:30:01.361 \"24.74\" \"100\" \n",
       "2017-09-19 09:30:01.525 \"24.74\" \"100\" \n",
       "2017-09-19 09:30:02.990 \"24.74\" \"100\" \n",
       "2017-09-19 09:30:02.996 \"24.74\" \"420\" \n",
       "2017-09-19 09:30:03.006 \"24.73\" \"4\"   "
      ]
     },
     "metadata": {},
     "output_type": "display_data"
    },
    {
     "data": {
      "text/plain": [
       "                        SYMBOL EX  PRICE     SIZE    COND BID     BIDSIZ\n",
       "2017-09-19 15:59:59.828 \"BAC\"  \"T\" \"24.8625\" \"499\"   \" \"  \"24.86\" \"5724\"\n",
       "2017-09-19 15:59:59.993 \"BAC\"  \"B\" \"24.87\"   \"137\"   \" \"  \"24.86\" \"3020\"\n",
       "2017-09-19 16:00:00.009 \"BAC\"  \"P\" \"24.87\"   \"28400\" \" \"  \"24.86\" \"3020\"\n",
       "2017-09-19 16:00:00.013 \"BAC\"  \"A\" \"24.86\"   \"100\"   \" \"  \"24.86\" \"3020\"\n",
       "2017-09-19 16:00:00.213 \"BAC\"  \"P\" \"24.87\"   \"28400\" \" \"  \"24.86\" \"3020\"\n",
       "2017-09-19 16:00:00.344 \"BAC\"  \"T\" \"24.865\"  \"99\"    \" \"  \"24.86\" \"3020\"\n",
       "                        OFR     OFRSIZ\n",
       "2017-09-19 15:59:59.828 \"24.87\" \"4321\"\n",
       "2017-09-19 15:59:59.993 \"24.87\" \"2071\"\n",
       "2017-09-19 16:00:00.009 \"24.87\" \"1956\"\n",
       "2017-09-19 16:00:00.013 \"24.87\" \"1956\"\n",
       "2017-09-19 16:00:00.213 \"24.87\" \"1956\"\n",
       "2017-09-19 16:00:00.344 \"24.87\" \"1956\""
      ]
     },
     "metadata": {},
     "output_type": "display_data"
    }
   ],
   "source": [
    "indexFormat(tqdata) <- \"%Y-%m-%d %H:%M:%OS3\"\n",
    "head(tqdata)\n",
    "tail(tqdata)"
   ]
  },
  {
   "cell_type": "markdown",
   "metadata": {
    "slideshow": {
     "slide_type": "slide"
    }
   },
   "source": [
    "### Autocorrelation of BAC price changes"
   ]
  },
  {
   "cell_type": "code",
   "execution_count": 6,
   "metadata": {
    "slideshow": {
     "slide_type": "fragment"
    }
   },
   "outputs": [],
   "source": [
    "p <- as.numeric(tqdata$PRICE)\n",
    "dp <- diff(p)\n",
    "ac <- acf(dp,lag=100,plot=FALSE)\n",
    "\n",
    "options(repr.plot.width=7,repr.plot.height=5)"
   ]
  },
  {
   "cell_type": "code",
   "execution_count": 7,
   "metadata": {
    "slideshow": {
     "slide_type": "subslide"
    }
   },
   "outputs": [
    {
     "data": {
      "image/png": "[encoded data removed]",
      "text/plain": [
       "Plot with title “NA”"
      ]
     },
     "metadata": {},
     "output_type": "display_data"
    }
   ],
   "source": [
    "plot(ac,col=\"red\",main=NA)"
   ]
  },
  {
   "cell_type": "markdown",
   "metadata": {
    "slideshow": {
     "slide_type": "fragment"
    }
   },
   "source": [
    "Figure 1: Autocorrelation of BAC price changes (19-Sep-2017)"
   ]
  },
  {
   "cell_type": "markdown",
   "metadata": {
    "slideshow": {
     "slide_type": "slide"
    }
   },
   "source": [
    "### Roll estimate of bid-ask spread"
   ]
  },
  {
   "cell_type": "code",
   "execution_count": 7,
   "metadata": {
    "slideshow": {
     "slide_type": "fragment"
    }
   },
   "outputs": [
    {
     "data": {
      "text/html": [
       "0.00185610162193746"
      ],
      "text/latex": [
       "0.00185610162193746"
      ],
      "text/markdown": [
       "0.00185610162193746"
      ],
      "text/plain": [
       "[1] 0.001856102"
      ]
     },
     "metadata": {},
     "output_type": "display_data"
    }
   ],
   "source": [
    "(c <- sqrt(-ac$acf[2])*sd(dp))"
   ]
  },
  {
   "cell_type": "markdown",
   "metadata": {
    "slideshow": {
     "slide_type": "fragment"
    }
   },
   "source": [
    "That is, the Roll estimate is $0.18$ cents."
   ]
  },
  {
   "cell_type": "markdown",
   "metadata": {
    "slideshow": {
     "slide_type": "slide"
    }
   },
   "source": [
    "### BAC is a big tick stock"
   ]
  },
  {
   "cell_type": "code",
   "execution_count": 8,
   "metadata": {
    "slideshow": {
     "slide_type": "fragment"
    }
   },
   "outputs": [
    {
     "data": {
      "text/html": [
       "<ol class=list-inline>\n",
       "\t<li>23663</li>\n",
       "\t<li>797</li>\n",
       "</ol>\n"
      ],
      "text/latex": [
       "\\begin{enumerate*}\n",
       "\\item 23663\n",
       "\\item 797\n",
       "\\end{enumerate*}\n"
      ],
      "text/markdown": [
       "1. 23663\n",
       "2. 797\n",
       "\n",
       "\n"
      ],
      "text/plain": [
       "[1] 23663   797"
      ]
     },
     "metadata": {},
     "output_type": "display_data"
    },
    {
     "data": {
      "text/html": [
       "0.0325838103025348"
      ],
      "text/latex": [
       "0.0325838103025348"
      ],
      "text/markdown": [
       "0.0325838103025348"
      ],
      "text/plain": [
       "[1] 0.03258381"
      ]
     },
     "metadata": {},
     "output_type": "display_data"
    }
   ],
   "source": [
    "spread <- round(as.numeric(tqdata$OFR) - as.numeric(tqdata$BID),2)\n",
    "c(length(spread[spread==0.01]),length(spread[spread==0.02]))\n",
    "length(spread[spread==0.02])/length(spread)"
   ]
  },
  {
   "cell_type": "markdown",
   "metadata": {
    "slideshow": {
     "slide_type": "fragment"
    }
   },
   "source": [
    "The spread is 2 cents only 3% of the time."
   ]
  },
  {
   "cell_type": "markdown",
   "metadata": {
    "slideshow": {
     "slide_type": "slide"
    }
   },
   "source": [
    "### Exchange codes\n",
    "\n",
    "https://www.ctaplan.com/publicdocs/ctaplan/notifications/trader-update/CTS_BINARY_OUTPUT_SPECIFICATION.pdf\n",
    "\n",
    "|\tCode\t|\tExchange\t|\n",
    "|--------\t\t|------------\t|---------------\t|\n",
    "|\tA\t|\tNYSE American\t|\n",
    "|\tB\t|\tNASDAQ OMX BX\t|\n",
    "|\tC\t|\tNYSE National\t|\n",
    "|\tD\t|\tFINRA\t|\n",
    "|\tI\t|\tInternational Securities Exchange\t|\n",
    "|\tJ\t|\tCboe EDGA\t|\n",
    "|\tK\t|\tCboe EDGX\t|\n",
    "|\tM\t|\tChicago Stock Exchange (CHX)\t|\n",
    "|\tN\t|\tNYSE\t|\n",
    "|\tP\t|\tNYSE Arca\t|\n",
    "|\tQ\t|\tNASDAQ OMX\t|\n",
    "|\tS\t|\tConsolidated Tape System (CTS)\t|\n",
    "|\tT\t|\tNASDAQ\t|\n",
    "|\tU\t|\tOTCBB\t|\n",
    "|\tV\t|\tInvestors’ Exchange (IEX)\t|\n",
    "|\tW\t|\tCBOE Stock Exchange (CBSX)|\n",
    "|\tX\t|\tNASDAQ OMX PSX\t|\n",
    "|\tY\t|\tCboe BYX \t|\n",
    "|\tZ\t|\tCboe BZX\t|"
   ]
  },
  {
   "cell_type": "markdown",
   "metadata": {
    "slideshow": {
     "slide_type": "subslide"
    }
   },
   "source": [
    "### How many trades on each exchange?"
   ]
  },
  {
   "cell_type": "code",
   "execution_count": 9,
   "metadata": {
    "slideshow": {
     "slide_type": "fragment"
    }
   },
   "outputs": [
    {
     "data": {
      "text/plain": [
       "       EX      \n",
       " Y      :7139  \n",
       " N      :4641  \n",
       " B      :3388  \n",
       " J      :2104  \n",
       " V      :1958  \n",
       " T      :1575  \n",
       " (Other):3655  "
      ]
     },
     "metadata": {},
     "output_type": "display_data"
    }
   ],
   "source": [
    "summary(as.data.frame(tqdata$EX))"
   ]
  },
  {
   "cell_type": "markdown",
   "metadata": {
    "slideshow": {
     "slide_type": "fragment"
    }
   },
   "source": [
    "We see that BYX and NYSE are the two biggest."
   ]
  },
  {
   "cell_type": "markdown",
   "metadata": {
    "slideshow": {
     "slide_type": "slide"
    }
   },
   "source": [
    "### 5 minutes of BAC trades"
   ]
  },
  {
   "cell_type": "code",
   "execution_count": 10,
   "metadata": {
    "collapsed": true,
    "slideshow": {
     "slide_type": "fragment"
    }
   },
   "outputs": [],
   "source": [
    "min5 <- '2017-09-19 11:40:00.000::2017-09-19 11:45:00.000'"
   ]
  },
  {
   "cell_type": "markdown",
   "metadata": {
    "slideshow": {
     "slide_type": "fragment"
    }
   },
   "source": [
    "How many trades from each exchange over this 5-minute interval?"
   ]
  },
  {
   "cell_type": "code",
   "execution_count": 11,
   "metadata": {
    "slideshow": {
     "slide_type": "fragment"
    }
   },
   "outputs": [
    {
     "data": {
      "text/plain": [
       "       EX    \n",
       " Y      :91  \n",
       " B      :34  \n",
       " V      :26  \n",
       " T      :24  \n",
       " N      :19  \n",
       " P      :16  \n",
       " (Other):35  "
      ]
     },
     "metadata": {},
     "output_type": "display_data"
    }
   ],
   "source": [
    "summary(as.data.frame(tqdata$EX[min5]))"
   ]
  },
  {
   "cell_type": "code",
   "execution_count": 12,
   "metadata": {
    "collapsed": true,
    "slideshow": {
     "slide_type": "subslide"
    }
   },
   "outputs": [],
   "source": [
    "legend.txt <- c(\"Y - Cboe BYX\",\n",
    "                \"B - NASDAQ OMX BX\",\n",
    "                \"V - IEX\",\n",
    "                \"T - NASDAQ\",\n",
    "                \"N - NYSE\",\n",
    "                \"P - NYSE Arca\")\n",
    "options(repr.plot.width=10,repr.plot.height=7)"
   ]
  },
  {
   "cell_type": "code",
   "execution_count": 13,
   "metadata": {
    "collapsed": true,
    "slideshow": {
     "slide_type": "fragment"
    }
   },
   "outputs": [],
   "source": [
    "ymax <- max(as.numeric(tqdata$OFR[min5]))\n",
    "ymin <- min(as.numeric(tqdata$BID[min5]))\n",
    "yrange <- c(ymin-0.01,ymax+0.02)\n",
    "myCol <- c(\"red\",\"dark green\",\"orange\",\"brown\",\"turquoise\",\"pink\")"
   ]
  },
  {
   "cell_type": "code",
   "execution_count": 14,
   "metadata": {
    "slideshow": {
     "slide_type": "subslide"
    }
   },
   "outputs": [
    {
     "data": {
      "image/png": "[encoded data removed]",
      "text/plain": [
       "Plot with title “NA”"
      ]
     },
     "metadata": {},
     "output_type": "display_data"
    }
   ],
   "source": [
    "plot(tqdata$BID[min5],main=NA,ylim=yrange,type=\"n\")\n",
    "lines(tqdata$BID[min5],col=\"red\")\n",
    "lines(tqdata$OFR[min5],col=\"blue\")\n",
    "points(tqdata$PRICE[min5][tqdata$EX[min5]==\"Y\"],col=myCol[1],pch=20)\n",
    "points(tqdata$PRICE[min5][tqdata$EX[min5]==\"B\"],col=myCol[2],pch=20)\n",
    "points(tqdata$PRICE[min5][tqdata$EX[min5]==\"V\"],col=myCol[3],pch=20)\n",
    "points(tqdata$PRICE[min5][tqdata$EX[min5]==\"T\"],col=myCol[4],pch=20)\n",
    "points(tqdata$PRICE[min5][tqdata$EX[min5]==\"N\"],col=myCol[5],pch=20)\n",
    "points(tqdata$PRICE[min5][tqdata$EX[min5]==\"P\"],col=myCol[6],pch=20)\n",
    "legend(\"topleft\",legend.txt,col=myCol, pch=20, inset=0.05)"
   ]
  },
  {
   "cell_type": "markdown",
   "metadata": {
    "slideshow": {
     "slide_type": "fragment"
    }
   },
   "source": [
    "Figure 2: BAC trades (19-Sep-2017)"
   ]
  },
  {
   "cell_type": "markdown",
   "metadata": {
    "slideshow": {
     "slide_type": "slide"
    }
   },
   "source": [
    "### Mid-prices fills\n",
    "\n",
    "- Many of the fills in Figure 2 are at the mid-price.\n",
    "\n",
    "- Let's compute what proportion of trades occur inside the spread, and of these, how many exactly at the mid-price."
   ]
  },
  {
   "cell_type": "code",
   "execution_count": 15,
   "metadata": {
    "slideshow": {
     "slide_type": "slide"
    }
   },
   "outputs": [
    {
     "data": {
      "image/png": "[encoded data removed]",
      "text/plain": [
       "plot without title"
      ]
     },
     "metadata": {},
     "output_type": "display_data"
    }
   ],
   "source": [
    "plot(as.numeric(tqdata$PRICE) %% .01,pch=20,col=\"blue\",ylab=\"Trade prices modulo 1 cent\",xlab=\"\")"
   ]
  },
  {
   "cell_type": "markdown",
   "metadata": {
    "slideshow": {
     "slide_type": "fragment"
    }
   },
   "source": [
    "Figure 3: BAC trades at the touch and inside the spread (19-Sep-2017). Anything that is not $0.00$ or $0.01$ is inside the spread."
   ]
  },
  {
   "cell_type": "markdown",
   "metadata": {
    "slideshow": {
     "slide_type": "subslide"
    }
   },
   "source": [
    "### Percentage inside the spread"
   ]
  },
  {
   "cell_type": "code",
   "execution_count": 16,
   "metadata": {
    "slideshow": {
     "slide_type": "fragment"
    }
   },
   "outputs": [
    {
     "data": {
      "text/html": [
       "<table>\n",
       "<thead><tr><th scope=col>n.trades</th><th scope=col>n.inside</th><th scope=col>n.mid</th><th scope=col>ratio.inside</th><th scope=col>ratio.mid</th></tr></thead>\n",
       "<tbody>\n",
       "\t<tr><td>24460    </td><td>7016     </td><td>6309     </td><td>0.2868357</td><td>0.2579313</td></tr>\n",
       "</tbody>\n",
       "</table>\n"
      ],
      "text/latex": [
       "\\begin{tabular}{r|lllll}\n",
       " n.trades & n.inside & n.mid & ratio.inside & ratio.mid\\\\\n",
       "\\hline\n",
       "\t 24460     & 7016      & 6309      & 0.2868357 & 0.2579313\\\\\n",
       "\\end{tabular}\n"
      ],
      "text/markdown": [
       "\n",
       "n.trades | n.inside | n.mid | ratio.inside | ratio.mid | \n",
       "|---|\n",
       "| 24460     | 7016      | 6309      | 0.2868357 | 0.2579313 | \n",
       "\n",
       "\n"
      ],
      "text/plain": [
       "  n.trades n.inside n.mid ratio.inside ratio.mid\n",
       "1 24460    7016     6309  0.2868357    0.2579313"
      ]
     },
     "metadata": {},
     "output_type": "display_data"
    }
   ],
   "source": [
    "prices.modulo1 <- as.numeric(tqdata$PRICE) %% .01\n",
    "n.trades <- length(prices.modulo1)\n",
    "inside.test <- (prices.modulo1>.0001)&(prices.modulo1<.0099)\n",
    "n.inside <- sum(inside.test)\n",
    "ratio.inside <- n.inside/n.trades\n",
    "mid.test <- (prices.modulo1<.0052)&(prices.modulo1>.0048)\n",
    "n.mid <- sum(mid.test)\n",
    "ratio.mid <- n.mid/n.trades\n",
    "\n",
    "(res <- data.frame(n.trades,n.inside,n.mid,ratio.inside,ratio.mid))"
   ]
  },
  {
   "cell_type": "markdown",
   "metadata": {
    "slideshow": {
     "slide_type": "slide"
    }
   },
   "source": [
    "### Signing trades: The Lee and Ready tick test\n",
    "\n",
    "Lee and Ready devised a simple method to infer trade direction in cases\n",
    "when quote data (and so mid-price) is not available:\n",
    "\n",
    "-   If a trade is on an uptick, it is a buy.\n",
    "\n",
    "-   If the trade is on a downtick, it is a sell.\n",
    "\n",
    "-   If the trade is on a zero-uptick, it is a buy.\n",
    "\n",
    "-   If the trade is on a zero-downtick, it is a sell."
   ]
  },
  {
   "cell_type": "markdown",
   "metadata": {
    "slideshow": {
     "slide_type": "subslide"
    }
   },
   "source": [
    "It can be verified that this algorithm classifies most trades in the\n",
    "same way as the classification based on comparison with the mid-price.\n",
    "However, note that according to Bandi and Russell “the Lee and Ready\n",
    "method, for example, is known to categorize incorrectly about 15% of the\n",
    "trades”."
   ]
  },
  {
   "cell_type": "markdown",
   "metadata": {
    "slideshow": {
     "slide_type": "slide"
    }
   },
   "source": [
    "### Bessembinder recommendation\n",
    "\n",
    "-   If quotes are available, Lee and Ready (1991) recommend comparing\n",
    "    current trade prices with quotes lagged by around 5 seconds.\n",
    "\n",
    "-   Ellis, Michaely, and O’Hara (EMO) assign trades executed at the ask\n",
    "    (bid) quote as buys (sells), while using the tick test for all other\n",
    "    trades."
   ]
  },
  {
   "cell_type": "markdown",
   "metadata": {
    "slideshow": {
     "slide_type": "subslide"
    }
   },
   "source": [
    "However, [Bessembinder]<sup id=\"cite_ref-Bessembinder\" class=\"reference\"><a href=\"#cite_note-Bessembinder\"><span>[</span>2<span>]</span></a></sup> (in a 2003 paper) recommends as follows:\n",
    "\n",
    "1.  Use the EMO technique in preference to the LR method to sign trades\n",
    "\n",
    "2.  Implement the EMO technique on the basis of contemporaneous rather\n",
    "    than earlier quotations\n",
    "\n",
    "3.  Use quotation midpoints in effect somewhat prior to the trade report\n",
    "    time as the benchmark quote when measuring effective bid-ask\n",
    "    spreads.\n",
    "    \n",
    "    \n",
    "- The latency (\"somehwat prior\") that works now is down to about 15 milliseconds!"
   ]
  },
  {
   "cell_type": "markdown",
   "metadata": {
    "slideshow": {
     "slide_type": "slide"
    }
   },
   "source": [
    "### TAQ data cleaning\n",
    "\n",
    "Data cleaning is critical. Here follows a recipe for TAQ cleaning due to\n",
    "[Barndorff-Nielsen et al.]<sup id=\"cite_ref-BNS\" class=\"reference\"><a href=\"#cite_note-BNS\"><span>[</span>1<span>]</span></a></sup> and implemented in the R-package `highfrequency`:\n",
    "\n",
    "<span>**All data**</span>\n",
    "\n",
    "- Delete entries with a timestamp outside the 9:30am–4pm window when the exchange is open.\n",
    "- Delete entries with a bid, ask or transaction price equal to zero.\n",
    "- Retain entries originating from a single exchange (NYSE in our application). Delete other entries."
   ]
  },
  {
   "cell_type": "markdown",
   "metadata": {
    "slideshow": {
     "slide_type": "subslide"
    }
   },
   "source": [
    "<span>**Quote data only**</span>\n",
    "\n",
    "- When multiple quotes have the same time stamp, we replace all these with a single entry with the median bid and median ask price.\n",
    "- Delete entries for which the spread is negative.\n",
    "- Delete entries for which the spread is more that 50 times the median spread on that day.\n",
    "- Delete entries for which the mid-quote deviated by more than 10 mean absolute deviations from a rolling centered median (excluding the observation under consideration) of 50 observations (25 observations before and 25 after)."
   ]
  },
  {
   "cell_type": "markdown",
   "metadata": {
    "slideshow": {
     "slide_type": "subslide"
    }
   },
   "source": [
    "<span>**Trade data only**</span>\n",
    "\n",
    "- Delete entries with corrected trades. (Trades with a Correction Indicator, CORR $\\neq$ 0).\n",
    "- Delete entries with abnormal Sale Condition. (Trades where COND has a letter code, except for E and F). See the TAQ 3 Users Guide for additional details about sale conditions.\n",
    "- If multiple transactions have the same time stamp, use the median price.\n",
    "- Delete entries with prices that are above the ask plus the bid–ask spread. Similar for entries with prices below the bid minus the bid–ask spread."
   ]
  },
  {
   "cell_type": "markdown",
   "metadata": {
    "slideshow": {
     "slide_type": "slide"
    }
   },
   "source": [
    "### One reason that analysis should be for each exchange separately\n",
    "\n",
    " Quoting from an SEC document at https://www.sec.gov/marketstructure/research/highlight-2014-03.html#.WKyOjzKZM_U:\n",
    " \n",
    " >The two dominant formats used by the exchanges to report trade and order activities on their direct feeds are “order-based” and “level-book.” The order-based method prints a message for every displayed quote or order (i.e., orders that are not immediately executable and not denoted as hidden). Each displayed order receives an order identification number (“order id”) that permits the matching of subsequent events, including cancels, modifications, and executions to specific resting orders. To compute the total posted liquidity at any given price point for a given stock, one must keep track of every order, cancel, modification, and execution during the course of the trading day.\n",
    " "
   ]
  },
  {
   "cell_type": "markdown",
   "metadata": {
    "slideshow": {
     "slide_type": "subslide"
    }
   },
   "source": [
    ">In contrast, the level-book method prints a message for every event that impacts the order book at a given price point for each stock, but does not print distinct order messages with their own order ids. The total posted liquidity at any given price point for a given stock is readily ascertained from the most recent level-book message for that price point.\n",
    "\n",
    ">Most exchanges currently use the more granular order-based method for their direct feeds, including NYSE Arca, BATS, Chicago (CHX), Direct Edge, Nasdaq, Nasdaq BX, Nasdaq PSX and National. NYSE and NYSE MKT (Amex) use the level-book method."
   ]
  },
  {
   "cell_type": "markdown",
   "metadata": {
    "slideshow": {
     "slide_type": "subslide"
    }
   },
   "source": [
    "   > ...\n",
    "   But suppose that instead of the orders being canceled, they are executed as a result of an incoming market order for 500 shares. Direct feeds using the order-based mechanism will report three distinct trades, of 100, 300, and 100 shares each, with three unique order ids tied to the original resting orders. But the level-book feed will report only one trade for the total 500 shares. This example demonstrates how the same 500-share market order yields a different trade count depending on whether the direct feed uses the order-based or level-book approach. "
   ]
  },
  {
   "cell_type": "markdown",
   "metadata": {
    "slideshow": {
     "slide_type": "slide"
    }
   },
   "source": [
    "### Autocorrelation of BAC trade signs"
   ]
  },
  {
   "cell_type": "code",
   "execution_count": 17,
   "metadata": {
    "collapsed": true,
    "slideshow": {
     "slide_type": "fragment"
    }
   },
   "outputs": [],
   "source": [
    "tradeSigns <- getTradeDirection(tqdata) "
   ]
  },
  {
   "cell_type": "code",
   "execution_count": 18,
   "metadata": {
    "slideshow": {
     "slide_type": "subslide"
    }
   },
   "outputs": [
    {
     "data": {
      "image/png": "[encoded data removed]",
      "text/plain": [
       "Plot with title “NA”"
      ]
     },
     "metadata": {},
     "output_type": "display_data"
    }
   ],
   "source": [
    "acTS <- acf(tradeSigns,main=NA,plot=FALSE)\n",
    "plot(acTS,main=NA,col=\"red\")"
   ]
  },
  {
   "cell_type": "markdown",
   "metadata": {
    "slideshow": {
     "slide_type": "fragment"
    }
   },
   "source": [
    "Figure 4: Autocorrelation of BAC trade signs (19-Sep-20127)"
   ]
  },
  {
   "cell_type": "markdown",
   "metadata": {
    "slideshow": {
     "slide_type": "slide"
    }
   },
   "source": [
    "### Log-log plot of autocorrelation of trade signs"
   ]
  },
  {
   "cell_type": "code",
   "execution_count": 19,
   "metadata": {
    "slideshow": {
     "slide_type": "fragment"
    }
   },
   "outputs": [
    {
     "data": {
      "text/plain": [
       "\n",
       "Call:\n",
       "lm(formula = log.acf ~ log.lag)\n",
       "\n",
       "Residuals:\n",
       "     Min       1Q   Median       3Q      Max \n",
       "-0.22138 -0.06632  0.04174  0.05769  0.09539 \n",
       "\n",
       "Coefficients:\n",
       "            Estimate Std. Error t value Pr(>|t|)    \n",
       "(Intercept) -0.52261    0.04199  -12.45 1.64e-15 ***\n",
       "log.lag     -0.43882    0.01420  -30.90  < 2e-16 ***\n",
       "---\n",
       "Signif. codes:  0 ‘***’ 0.001 ‘**’ 0.01 ‘*’ 0.05 ‘.’ 0.1 ‘ ’ 1\n",
       "\n",
       "Residual standard error: 0.08087 on 41 degrees of freedom\n",
       "Multiple R-squared:  0.9588,\tAdjusted R-squared:  0.9578 \n",
       "F-statistic: 954.9 on 1 and 41 DF,  p-value: < 2.2e-16\n"
      ]
     },
     "metadata": {},
     "output_type": "display_data"
    }
   ],
   "source": [
    "log.lag <- log(acTS$lag[-1])\n",
    "log.acf <- log(acTS$acf[-1])\n",
    "fit.lm <- lm(log.acf ~ log.lag)\n",
    "summary(fit.lm)"
   ]
  },
  {
   "cell_type": "code",
   "execution_count": 20,
   "metadata": {
    "slideshow": {
     "slide_type": "subslide"
    }
   },
   "outputs": [
    {
     "data": {
      "image/png": "[encoded data removed]",
      "text/plain": [
       "Plot with title “NA”"
      ]
     },
     "metadata": {},
     "output_type": "display_data"
    }
   ],
   "source": [
    "plot(log.lag,log.acf,main=NA,col=\"blue\",pch=20,ylab=expression(rho(tau)),\n",
    "     xlab=expression(paste(\"Lag \",tau)))\n",
    "abline(fit.lm,col=\"red\")"
   ]
  },
  {
   "cell_type": "markdown",
   "metadata": {
    "slideshow": {
     "slide_type": "fragment"
    }
   },
   "source": [
    "Figure 5: Log-log plot of autocorrelation of BAC trade signs (19-Sep-20127).  Approximately $1/\\sqrt{\\tau}$."
   ]
  },
  {
   "cell_type": "markdown",
   "metadata": {
    "slideshow": {
     "slide_type": "slide"
    }
   },
   "source": [
    "### Estimate of Roll model using trade signs\n",
    "\n",
    "-   Recall the Roll model: $$p_t=m_{t}+c\\,\\epsilon_t.$$\n",
    "\n",
    "\n",
    "-   Recall that the Roll half-spread estimate just from trade data was $0.18$\n",
    "    cents.\n",
    "\n",
    "\n",
    "-   Now that we have trade signs, we may use these to estimate the\n",
    "    half-spread from the regression\n",
    "    $$\\Delta p_t=\\Delta m_t+c\\,(\\epsilon_t-\\epsilon_{t-1})$$ "
   ]
  },
  {
   "cell_type": "code",
   "execution_count": 21,
   "metadata": {
    "collapsed": true
   },
   "outputs": [],
   "source": [
    "p <- as.numeric(tqdata$PRICE)\n",
    "dp <- diff(p)\n",
    "deps <- diff(tradeSigns)\n",
    "mids <- (as.numeric(tqdata$OFR) + as.numeric(tqdata$BID))/2"
   ]
  },
  {
   "cell_type": "code",
   "execution_count": 22,
   "metadata": {
    "slideshow": {
     "slide_type": "subslide"
    }
   },
   "outputs": [
    {
     "data": {
      "text/plain": [
       "\n",
       "Call:\n",
       "lm(formula = dp ~ dm + deps)\n",
       "\n",
       "Coefficients:\n",
       "(Intercept)           dm         deps  \n",
       "  3.688e-06    5.540e-01    2.580e-03  \n"
      ]
     },
     "metadata": {},
     "output_type": "display_data"
    },
    {
     "data": {
      "text/html": [
       "<strong>deps:</strong> 0.00258012633432361"
      ],
      "text/latex": [
       "\\textbf{deps:} 0.00258012633432361"
      ],
      "text/markdown": [
       "**deps:** 0.00258012633432361"
      ],
      "text/plain": [
       "       deps \n",
       "0.002580126 "
      ]
     },
     "metadata": {},
     "output_type": "display_data"
    }
   ],
   "source": [
    "dm <- diff(mids)\n",
    "(fit.lm <- lm(dp ~ dm + deps))\n",
    "fit.lm$coeff[3]"
   ]
  },
  {
   "cell_type": "markdown",
   "metadata": {
    "slideshow": {
     "slide_type": "subslide"
    }
   },
   "source": [
    "- The resulting estimate of the half-spread in this case is $0.26$ cents.\n",
    "\n",
    "\n",
    "-   Trade signs are very autocorrelated with all coefficients\n",
    "    significant.  \n",
    "    - Autocorrelation decays slowly."
   ]
  },
  {
   "cell_type": "markdown",
   "metadata": {
    "slideshow": {
     "slide_type": "slide"
    }
   },
   "source": [
    "### A generalization of the Roll model\n",
    "\n",
    "-   As before, we model trade prices $p_t$ as\n",
    "<p>\n",
    "    $$p_t=m_{t}+c\\,\\epsilon_t$$\n",
    "    <p>\n",
    "    but we allow the evolution of the\n",
    "    efficient price to depend on the trade sign:\n",
    "    \n",
    "    <a name=\"eq:GRoll\"></a>(2)\n",
    "    $$\\Delta m_t=m_t-m_{t-1}=\\lambda\\,\\epsilon_t+u_t$$\n",
    "\n",
    "    with $\\mbox{Cov}[\\epsilon_t,u_t]=0$.\n",
    "\n",
    "    -   This could reflect market impact and/or asymmetric information."
   ]
  },
  {
   "cell_type": "markdown",
   "metadata": {
    "slideshow": {
     "slide_type": "subslide"
    }
   },
   "source": [
    "-   Autocovariances are:\n",
    "\n",
    "$$\n",
    "    \\begin{eqnarray*}\n",
    "    \\gamma_0&=&\\mathbb{E} [\\Delta p^2]=c^2+(c+\\lambda)^2+\\sigma_u^2\\\\\n",
    "    \\gamma_1&=&\\mathbb{E} [\\Delta p_t\\, \\Delta p_{t-1}]=-c\\,(c+\\lambda)\\end{eqnarray*}\n",
    "$$\n",
    "\n",
    "-   All higher order autocovariances are zero."
   ]
  },
  {
   "cell_type": "markdown",
   "metadata": {
    "slideshow": {
     "slide_type": "slide"
    }
   },
   "source": [
    "### Estimation of parameters\n",
    "\n",
    "-   The variance of the efficient price is given by\n",
    "\n",
    "<p>\n",
    "    $$\\mbox{Var}[\\Delta m_t]=\\lambda^2+\\sigma_u^2=\\gamma_0+2\\,\\gamma_1$$\n",
    "\n",
    "\n",
    "-   Thus $\\gamma_0$ and $\\gamma_1$ are not sufficient to identify $c$\n",
    "    and $\\lambda$ separately.\n",
    "\n",
    "\n",
    "-   With synchronized quotes or alternatively trade sign data, we can\n",
    "    identify $\\lambda$ and $c$ separately by regression. Specifically, \n",
    "    \n",
    "    $$\n",
    "    \\Delta p_t = \\lambda \\,\\epsilon_t + c\\, \\Delta\\epsilon_{t} + u_t.\n",
    "    $$\n",
    "\n",
    "    -   With our BAC data, we get $\\lambda = 0.019$ cents and\n",
    "        $c = 0.228$ cents.\n",
    "\n"
   ]
  },
  {
   "cell_type": "markdown",
   "metadata": {
    "slideshow": {
     "slide_type": "subslide"
    }
   },
   "source": [
    "#### Estimation of Generalized Roll model"
   ]
  },
  {
   "cell_type": "code",
   "execution_count": 23,
   "metadata": {
    "slideshow": {
     "slide_type": "fragment"
    }
   },
   "outputs": [
    {
     "data": {
      "text/plain": [
       "\n",
       "Call:\n",
       "lm(formula = dp ~ tradeSigns[-1] + deps)\n",
       "\n",
       "Coefficients:\n",
       "   (Intercept)  tradeSigns[-1]            deps  \n",
       "     2.774e-05       1.861e-04       2.278e-03  \n"
      ]
     },
     "metadata": {},
     "output_type": "display_data"
    }
   ],
   "source": [
    "(fit.lmG <- lm(dp ~ tradeSigns[-1] + deps))"
   ]
  },
  {
   "cell_type": "markdown",
   "metadata": {
    "slideshow": {
     "slide_type": "slide"
    }
   },
   "source": [
    "### Empirical notions of spread\n",
    "\n",
    "-   <span>**The effective spread**</span>\n",
    "    $$s^E=\\langle  2\\,\\epsilon_t\\,(p_t-m_t)  \\rangle$$\n",
    "\n",
    "\n",
    "-   <span>**The realized spread**</span>\n",
    "    $$s^R=\\langle  2\\,\\epsilon_t\\,(p_t-m_{t+\\tau})  \\rangle$$ for some\n",
    "    $\\tau >0$ (5 minutes say)."
   ]
  },
  {
   "cell_type": "markdown",
   "metadata": {
    "slideshow": {
     "slide_type": "subslide"
    }
   },
   "source": [
    "-   In the Roll model, the two notions of spread coincide but if trading\n",
    "    affects the mid-price, the two notions will not in general agree.\n",
    "\n",
    "    -   Note that we don’t need to believe in asymmetric information to\n",
    "        believe in market impact. Recall that there is market impact even in\n",
    "        the zero-intelligence model."
   ]
  },
  {
   "cell_type": "markdown",
   "metadata": {
    "slideshow": {
     "slide_type": "subslide"
    }
   },
   "source": [
    "-   In general, empirically, the realized spread is smaller than the\n",
    "    effective spread.\n",
    "\n",
    "    -   With our BAC data, the effective spread is $0.352$ cents and\n",
    "        the realized spread after 500 trades is $0.148$ cents."
   ]
  },
  {
   "cell_type": "code",
   "execution_count": 24,
   "metadata": {
    "slideshow": {
     "slide_type": "fragment"
    }
   },
   "outputs": [
    {
     "data": {
      "text/html": [
       "0.00351582174979577"
      ],
      "text/latex": [
       "0.00351582174979577"
      ],
      "text/markdown": [
       "0.00351582174979577"
      ],
      "text/plain": [
       "[1] 0.003515822"
      ]
     },
     "metadata": {},
     "output_type": "display_data"
    }
   ],
   "source": [
    "# Effective spread\n",
    "(es <- mean(tradeSigns*(p-mids))) # This is the effective half-spread"
   ]
  },
  {
   "cell_type": "code",
   "execution_count": 25,
   "metadata": {
    "slideshow": {
     "slide_type": "fragment"
    }
   },
   "outputs": [
    {
     "data": {
      "text/html": [
       "0.00147796327212034"
      ],
      "text/latex": [
       "0.00147796327212034"
      ],
      "text/markdown": [
       "0.00147796327212034"
      ],
      "text/plain": [
       "[1] 0.001477963"
      ]
     },
     "metadata": {},
     "output_type": "display_data"
    }
   ],
   "source": [
    "# Realized spread\n",
    "n <- length(p)\n",
    "mids <- (as.numeric(tqdata$OFR) + as.numeric(tqdata$BID))/2\n",
    "rs <- function(lag){mean(tradeSigns[1:(n-lag)]*(p[1:(n-lag)]-mids[-(1:lag)]))}\n",
    "(rs(500))"
   ]
  },
  {
   "cell_type": "markdown",
   "metadata": {
    "slideshow": {
     "slide_type": "slide"
    }
   },
   "source": [
    "### BAC realized spread over time"
   ]
  },
  {
   "cell_type": "code",
   "execution_count": 26,
   "metadata": {
    "slideshow": {
     "slide_type": "subslide"
    }
   },
   "outputs": [
    {
     "data": {
      "image/png": "[encoded data removed]",
      "text/plain": [
       "plot without title"
      ]
     },
     "metadata": {},
     "output_type": "display_data"
    }
   ],
   "source": [
    "rsLag <- sapply(1:500,rs)\n",
    "plot(1:500,rsLag,col=\"red\",type=\"l\",xlab=expression(tau), ylab = \"Realized spread\",ylim=c(0,.0035))"
   ]
  },
  {
   "cell_type": "markdown",
   "metadata": {
    "slideshow": {
     "slide_type": "fragment"
    }
   },
   "source": [
    "Figure 6: Realized BAC spread vs number of trades after execution (19-Sep-2017)"
   ]
  },
  {
   "cell_type": "markdown",
   "metadata": {
    "slideshow": {
     "slide_type": "slide"
    }
   },
   "source": [
    "### BAC realized spread by reporting exchange\n",
    "\n",
    "\n",
    "<h2><img src=\"http://mfe.baruch.cuny.edu/wp-content/uploads/2018/02/realizedSpreadByExch.png\" align = \"center\" width=900></h2>\n",
    "\n",
    "Figure 7: Different exchanges have different realized spread profiles depending on fee structure."
   ]
  },
  {
   "cell_type": "markdown",
   "metadata": {
    "slideshow": {
     "slide_type": "slide"
    }
   },
   "source": [
    "### Determinants of the bid-ask spread\n",
    "\n",
    "Recall that there are three main determinants of the bid-ask spread:\n",
    "\n",
    "-   Processing costs (which include the profit of the market maker)\n",
    "\n",
    "-   Inventory costs such as cost of risk capital\n",
    "\n",
    "-   Adverse selection\n",
    "\n",
    "In the Roll model, only processing costs are taken into account. In the\n",
    "generalized Roll model, adverse selection is also taken into account.\n",
    "\n"
   ]
  },
  {
   "cell_type": "markdown",
   "metadata": {
    "slideshow": {
     "slide_type": "slide"
    }
   },
   "source": [
    "### Models with asymmetric information\n",
    "\n",
    "There are two main classes of model with asymmetric information:\n",
    "\n",
    "-   Strategic trader models where typically a single informed trader\n",
    "    optimizes his use of information.\n",
    "\n",
    "    -   A good example is the Kyle model which we will cover in the next\n",
    "        lecture.\n",
    "\n",
    "\n",
    "-   Sequential trader models where randomly selected traders arrive one\n",
    "    after the other, independently.\n",
    "\n",
    "    -   The prototypical example is Glosten and Milgrom (1985)."
   ]
  },
  {
   "cell_type": "markdown",
   "metadata": {
    "slideshow": {
     "slide_type": "subslide"
    }
   },
   "source": [
    "-   In sequential trader models, the spread set by the market maker\n",
    "    compensates for adverse selection."
   ]
  },
  {
   "cell_type": "markdown",
   "metadata": {
    "slideshow": {
     "slide_type": "slide"
    }
   },
   "source": [
    "### A sequential trade model (Glosten and Milgrom)\n",
    "\n",
    "-   In the Glosten and Milgrom model, the market maker $\\mathcal{M}$\n",
    "    learns the informed trader $\\mathcal{I} $’s information by observing\n",
    "    the order flow.\n",
    "\n",
    "    -   If there are more buys than sells over time, $\\mathcal{M}$ sets\n",
    "        the price higher.\n",
    "\n",
    "-   $\\mathcal{M}$ posts bid and ask prices $B$ and $A$.\n",
    "\n",
    "-   The value of the security is either high ($\\bar V$) with probability\n",
    "    $\\delta$ or low ($\\underline V$).\n",
    "\n",
    "-   A trader is drawn at random: either informed $\\mathcal{I} $ with\n",
    "    probability $\\mu$ or uninformed $\\mathcal{U}$.\n",
    "\n"
   ]
  },
  {
   "cell_type": "markdown",
   "metadata": {
    "slideshow": {
     "slide_type": "slide"
    }
   },
   "source": [
    "### Sequential trade model event tree\n",
    "\n",
    "<a name=\"eq:GlostenMilgromTree\"></a>(3)\n",
    "\n",
    "<h2><img src=\"http://mfe.baruch.cuny.edu/wp-content/uploads/2015/02/sequentialModelEventTree.png\" align = \"center\" width=500></h2>"
   ]
  },
  {
   "cell_type": "markdown",
   "metadata": {
    "slideshow": {
     "slide_type": "slide"
    }
   },
   "source": [
    "### Unconditional probabilities\n",
    "\n",
    "The unconditional probability of a buy is given by\n",
    "\n",
    "\\begin{eqnarray*}\n",
    "\\Pr[Buy]=\\frac{1}{2}\\,\\left(1-\\mu\\right)+\\delta\\,\\mu=\\frac 12 \\,\\left\\{1-\\mu\\,(1-2\\,\\delta)\\right\\}.\\end{eqnarray*}\n",
    "\n",
    "Similarly, the unconditional probability of a sell is given by\n",
    "\n",
    "$$\\Pr[Sell]=\\frac{1}{2} \\,(1-\\mu)+(1-\\delta)\\,\\mu=\\frac 12 \\,\\left\\{1+\\mu\\,(1-2\\,\\delta)\\right\\}.$$\n",
    "\n",
    "If $\\delta = \\frac12$, $\\Pr[Buy] = \\Pr[Sell] = \\frac12$.\n",
    "\n"
   ]
  },
  {
   "cell_type": "markdown",
   "metadata": {
    "slideshow": {
     "slide_type": "slide"
    }
   },
   "source": [
    "### Optimal bid price\n",
    "\n",
    "Under <span>*perfect competition*</span>, the optimal ask price is set\n",
    "as\n",
    "\n",
    "\\begin{eqnarray*}\n",
    "A&=&\\mathbb{E} [V|Buy]\\\\\n",
    "&=&{\\bar V\\,\\Pr(\\bar V|Buy)+\\underline V\\,\\Pr(\\underline V|Buy)}\\\\\n",
    "&=&\\frac{\\bar V\\,\\Pr(\\bar V \\cap Buy)+\\underline V\\,\\Pr(\\underline V \\cap Buy)}{\\Pr(Buy)}\\end{eqnarray*}"
   ]
  },
  {
   "cell_type": "markdown",
   "metadata": {
    "slideshow": {
     "slide_type": "subslide"
    }
   },
   "source": [
    "By inspection of the Glosten and Milgrom tree [(3)](#eq:GlostenMilgromTree), we have\n",
    "\n",
    "\\begin{eqnarray*}\n",
    "\\Pr(\\bar V \\cap Buy) &=& \\delta\\,\\left\\{\\mu+\\frac 12 (1-\\mu)\\right\\} = \\frac12 \\delta (1 + \\mu) \\\\\n",
    "\\Pr(\\underline V \\cap Buy) &=& (1-\\delta)\\,\\left\\{0+\\frac 12 (1-\\mu)\\right\\} = \\frac12 (1 - \\delta)(1 - \\mu)\n",
    "\\end{eqnarray*}\n",
    "\n",
    "and we already computed that\n",
    "$\\Pr(Buy)=\\frac 12 \\,\\left\\{1-\\mu\\,(1-2\\,\\delta)\\right\\}$. So\n",
    "\n",
    "$$A=\\mathbb{E} [V|Buy]=\\frac{\\underline V\\,(1-\\delta)\\,(1-\\mu)+\\bar V\\,\\delta\\,(1+\\mu)}{1-\\mu\\,(1-2\\,\\delta)}.$$"
   ]
  },
  {
   "cell_type": "markdown",
   "metadata": {
    "slideshow": {
     "slide_type": "slide"
    }
   },
   "source": [
    "### The spread\n",
    "\n",
    "Similarly,\n",
    "\n",
    "$$B=\\mathbb{E} [V|Sell]=\\frac{\\underline V\\,(1-\\delta)\\,(1+\\mu)+\\bar V\\,\\delta\\,(1-\\mu)}{1+\\mu\\,(1-2\\,\\delta)}$$\n",
    "\n",
    "so the spread is\n",
    "\n",
    "$$s=A-B=\\frac{4\\,(\\bar V-\\underline V)\\,\\mu\\,\\delta\\,(1-\\delta)}{1-\\mu^2\\,(1-2\\,\\delta)^2}.$$\n",
    "\n",
    "When $\\delta=1/2$, \n",
    "\n",
    "$$s=\\mu\\,(\\bar V-\\underline V)$$ \n",
    "\n",
    "and in this case, the spread is proportional to the probability of informed trading.\n",
    "\n"
   ]
  },
  {
   "cell_type": "markdown",
   "metadata": {
    "slideshow": {
     "slide_type": "slide"
    }
   },
   "source": [
    "### Observations\n",
    "\n",
    "-   The mid-price equals the fair price\n",
    "    $\\mathbb{E} [V]=\\delta \\,\\underline V+(1-\\delta)\\,\\bar V$ only when\n",
    "    $\\delta=1/2$.\n",
    "\n",
    "    -   The bid and ask prices are not set symmetrically around\n",
    "        the efficient price.\n",
    "\n",
    "\n",
    "-   The maximum spread is at $\\delta=1/2$ when uncertainty on $V$ is\n",
    "    maximized. The closer $\\delta$ is to $1$ or $0$, the smaller the\n",
    "    spread."
   ]
  },
  {
   "cell_type": "markdown",
   "metadata": {
    "slideshow": {
     "slide_type": "subslide"
    }
   },
   "source": [
    "-   As the probability of informed trading $\\mu \\to 1$,\n",
    "    $B \\to \\underline V$ and $A \\to \\bar V$.\n",
    "\n",
    "\n",
    "-   The more informed trading is, the wider the spread. In the limit\n",
    "    where for example insider trading is allowed, we may see $\\mu=1$ and\n",
    "    subsequently market failure with no dealer willing to post quotes."
   ]
  },
  {
   "cell_type": "markdown",
   "metadata": {
    "slideshow": {
     "slide_type": "slide"
    }
   },
   "source": [
    "### Model dynamics\n",
    "\n",
    "-   The dealer now updates his belief about the efficient price by\n",
    "    taking the sign of the previous trade into account.\n",
    "\n",
    "Let $\\delta_k=\\Pr(\\bar V|\\delta_{k-1},\\epsilon_{k-1})$ where $\\epsilon_i$ denotes the sign of the $i$th trade."
   ]
  },
  {
   "cell_type": "markdown",
   "metadata": {
    "slideshow": {
     "slide_type": "subslide"
    }
   },
   "source": [
    "Then if $\\epsilon_{k-1}=+1$,\n",
    "\n",
    "$$\\delta_k=\\frac{\\Pr(\\bar V\\cap(\\epsilon_{k-1}=+1)|\\delta_{k-1})}{\\Pr(\\epsilon_{k-1}=+1|\\delta_{k-1})}=\\frac{(1+\\mu)\\,\\delta_{k-1}}{1-\\mu+2\\,\\delta_{k-1}\\,\\mu}.$$\n",
    "\n",
    "and if $\\epsilon_{k-1}=-1$,\n",
    "\n",
    "$$\\delta_k=\\frac{(1-\\mu)\\,\\delta_{k-1}}{1+\\mu-2\\,\\delta_{k-1}\\,\\mu}.$$"
   ]
  },
  {
   "cell_type": "markdown",
   "metadata": {
    "slideshow": {
     "slide_type": "subslide"
    }
   },
   "source": [
    "This may be summarized as:\n",
    "\n",
    "<a name=\"eq:GMupdate\"></a>(4)\n",
    "$$\\delta_k=\\frac{(1+\\mu\\,\\epsilon_{k-1})\\,\\delta_{k-1}}{1-\\mu\\,\\epsilon_{k-1}\\,(1-2\\,\\delta_{k-1})}.$$\n",
    "\n",
    "Thus, $\\delta_k$ may be computed recursively from the time series\n",
    "$ \\{\\epsilon_i:i<k\\}=:\\mathcal{F} _k$ and $\\delta_0$."
   ]
  },
  {
   "cell_type": "markdown",
   "metadata": {
    "slideshow": {
     "slide_type": "slide"
    }
   },
   "source": [
    "### Dynamical properties of the model\n",
    "\n",
    "-   The trade price series is a martingale.\n",
    "\n",
    "    -   Both bid and ask prices are expectations conditioned on an\n",
    "        expanding information set (the time series of trade signs):\n",
    "        \\begin{eqnarray*}\n",
    "        B_k&=&\\mathbb{E} [V|\\mathcal{F} _k,\\epsilon_k=-1] \\\\\n",
    "        A_k&=&\\mathbb{E} [V|\\mathcal{F} _k,\\epsilon_k=+1]\n",
    "        \\end{eqnarray*}\n",
    "\n",
    "\n",
    "-   Order signs are predictable:\n",
    "    $\\mathbb{E} [\\epsilon_k|\\mathcal{F} _k] \\neq 0$ in general.\n",
    "\n",
    "\n",
    "-   The spread declines over time. Trading reveals the efficient price."
   ]
  },
  {
   "cell_type": "markdown",
   "metadata": {
    "slideshow": {
     "slide_type": "subslide"
    }
   },
   "source": [
    "-   Orders are serially correlated because informed traders always trade\n",
    "    in the same direction.\n",
    "\n",
    "\n",
    "-   There is market impact in this model. A buy causes both the bid and\n",
    "    the offer to increase."
   ]
  },
  {
   "cell_type": "markdown",
   "metadata": {
    "slideshow": {
     "slide_type": "slide"
    }
   },
   "source": [
    "### Further observations\n",
    "\n",
    "-   If processing costs are $c$, the bid decreases by $c$ and the ask\n",
    "    increases by $c$.\n",
    "\n",
    "    -   Bid and ask prices are still martingales but the time series of\n",
    "        trade prices is no longer a martingale.\n",
    "\n",
    "\n",
    "-   From the Roll model perspective, information asymmetry has broken\n",
    "    the independence between the trade signs $\\epsilon_i$ and the\n",
    "    innovation to the efficient price."
   ]
  },
  {
   "cell_type": "markdown",
   "metadata": {
    "slideshow": {
     "slide_type": "subslide"
    }
   },
   "source": [
    "-   It is implicit that there is no risk aversion and unlimited capital\n",
    "    in the Glosten and Milgrom model so there is no inventory component\n",
    "    to the bid and ask prices."
   ]
  },
  {
   "cell_type": "markdown",
   "metadata": {
    "slideshow": {
     "slide_type": "slide"
    }
   },
   "source": [
    "### Market efficiency\n",
    "\n",
    "According to the classical definitions, prices are\n",
    "\n",
    "-   <span>*strong-form efficient*</span> if they reflect all private\n",
    "    information\n",
    "\n",
    "-   <span>*semi-strong-form efficient*</span> if they reflect all public\n",
    "    information\n",
    "\n",
    "-   <span>*weak-form efficient*</span> if they reflect all information\n",
    "    in their past values."
   ]
  },
  {
   "cell_type": "markdown",
   "metadata": {
    "slideshow": {
     "slide_type": "subslide"
    }
   },
   "source": [
    "In the Glosten and Milgrom model, prices converge to the true value\n",
    "eventually becoming strong-form efficient. However at any given time, as\n",
    "a martingale reflecting all information available to the market maker,\n",
    "the price is only semi-strong-form efficient,\n",
    "\n",
    "-   Note that prices can depart substantially from the true value,\n",
    "    depending on order flow. So it’s not clear how interesting it is to\n",
    "    know that the market price is semi-strong-form efficient."
   ]
  },
  {
   "cell_type": "markdown",
   "metadata": {
    "slideshow": {
     "slide_type": "slide"
    }
   },
   "source": [
    "### Strategic uninformed trading\n",
    "\n",
    "-   It is possible for an uninformed trader to push up the price by\n",
    "    buying.\n",
    "\n",
    "    -   Is market manipulation possible in this model?\n",
    "\n",
    "    -   It certainly would be better for the uninformed trader to trade\n",
    "        strategically."
   ]
  },
  {
   "cell_type": "markdown",
   "metadata": {
    "slideshow": {
     "slide_type": "subslide"
    }
   },
   "source": [
    "-   For everyone except the actual buyer, the expectation of the\n",
    "    efficient price increases after a trade.\n",
    "\n",
    "    -   However, the expectation of the trader himself cannot change. He\n",
    "        has no more information after the trade than he had before.\n",
    "\n",
    "\n",
    "-   Sequential trader models are thus fundamentally unrealistic as\n",
    "    uninformed traders never learn and cannot behave strategically."
   ]
  },
  {
   "cell_type": "markdown",
   "metadata": {
    "slideshow": {
     "slide_type": "slide"
    }
   },
   "source": [
    "### Further extensions of the Roll model\n",
    "\n",
    "-   Sequential trader models suggest how private information may get\n",
    "    impounded into the price.\n",
    "\n",
    "    -   The spread must include a component that compensates for adverse\n",
    "        selection.\n",
    "\n",
    "\n",
    "-   We now proceed to further extend the Roll model to investigate\n",
    "    empirically the components of the bid-ask spread.\n",
    "\n"
   ]
  },
  {
   "cell_type": "markdown",
   "metadata": {
    "slideshow": {
     "slide_type": "slide"
    }
   },
   "source": [
    "### The Glosten and Harris model\n",
    "\n",
    "-   Order processing costs and adverse selection costs are allowed to\n",
    "    depend on trade size.\n",
    "\n",
    "\n",
    "-   A simplified version of their dynamics is:\n",
    "\n",
    "    <a name=\"eq:GlostenHarris\"></a>(5)\n",
    "    $$p_t=m_t+c\\,\\epsilon_t+\\lambda\\,x_t$$\n",
    "    <a name=\"eq:GlostenHarris2\"></a>(6)\n",
    "    $$m_t=m_{t-1}+\\lambda\\,x_{t-1}+u_t$$\n",
    "\n",
    "    where $x_t$ is (signed) trade size and $\\lambda$ may be identified\n",
    "    with the Kyle lambda."
   ]
  },
  {
   "cell_type": "markdown",
   "metadata": {
    "slideshow": {
     "slide_type": "subslide"
    }
   },
   "source": [
    "-   The half-spread in this model is now given by\n",
    "    $$\\frac{s_t}{2}=c+\\lambda\\,|x_t|$$"
   ]
  },
  {
   "cell_type": "markdown",
   "metadata": {
    "slideshow": {
     "slide_type": "subslide"
    }
   },
   "source": [
    "We now estimate Glosten and Harris equation using (5) and (6)"
   ]
  },
  {
   "cell_type": "code",
   "execution_count": 27,
   "metadata": {
    "slideshow": {
     "slide_type": "fragment"
    }
   },
   "outputs": [
    {
     "data": {
      "text/plain": [
       "\n",
       "Call:\n",
       "lm(formula = dm ~ x[-n])\n",
       "\n",
       "Coefficients:\n",
       "(Intercept)        x[-n]  \n",
       "  8.793e-06    4.101e-08  \n"
      ]
     },
     "metadata": {},
     "output_type": "display_data"
    },
    {
     "data": {
      "text/plain": [
       "\n",
       "Call:\n",
       "lm(formula = lhs ~ tradeSigns)\n",
       "\n",
       "Coefficients:\n",
       "(Intercept)   tradeSigns  \n",
       "  0.0003211    0.0035025  \n"
      ]
     },
     "metadata": {},
     "output_type": "display_data"
    }
   ],
   "source": [
    "x <- as.numeric(tqdata$SIZE)*tradeSigns # Signed volume\n",
    "n <- length(x)\n",
    "\n",
    "(fit.gh6 <- lm(dm ~ x[-n]))\n",
    "lambda <- fit.gh6$coeff[2] # lambda is very tiny in our data\n",
    "\n",
    "lhs <- p - mids - lambda*x\n",
    "(fit.gh5 <- lm(lhs ~ tradeSigns)) # We get c = 0.35 cents "
   ]
  },
  {
   "cell_type": "markdown",
   "metadata": {
    "slideshow": {
     "slide_type": "fragment"
    }
   },
   "source": [
    "This gives $c=0.35$ cents and $\\lambda \\approx 0.004$ cents per 1,000 shares."
   ]
  },
  {
   "cell_type": "markdown",
   "metadata": {
    "slideshow": {
     "slide_type": "slide"
    }
   },
   "source": [
    "### The Glosten and Harris model\n",
    "\n",
    "-   Note that $p_t$ may be reexpressed as\n",
    "\n",
    "    <a name=\"eq:lambdaRegression\"></a>(7)\n",
    "    $$p_t=\\lambda\\,\\sum_{i \\leq t}\\,x_i+c\\,(\\epsilon_t-\\epsilon_0)+\\sum_{i \\leq t} u_i.$$\n",
    "\n",
    "\n",
    "-   The first term may be identified with permanent impact and the\n",
    "    second with temporary impact."
   ]
  },
  {
   "cell_type": "markdown",
   "metadata": {
    "slideshow": {
     "slide_type": "subslide"
    }
   },
   "source": [
    "-   Glosten and Harris estimated their model on NYSE stock data from\n",
    "    01-Dec-1981 to 31-Jan-1983 finding:\n",
    "\n",
    "    \\begin{eqnarray*}\n",
    "    c&=&4.44 \\text{ cents}\\\\\n",
    "    \\lambda &=& 1.13 \\text{ cents per 1,000 shares}\\end{eqnarray*}\n",
    "    \n",
    "\n",
    "-   From our BAC data, $c = 0.35$ cents, $\\lambda = 0.004$ cents per\n",
    "    $1,000$ shares."
   ]
  },
  {
   "cell_type": "markdown",
   "metadata": {
    "slideshow": {
     "slide_type": "slide"
    }
   },
   "source": [
    "### The ILLIQ measure (using daily data)\n",
    "\n",
    "-   The net order flow $\\sum_i x_i$ is typically not easily available.\n",
    "\n",
    "\n",
    "-   This led Amihud to propose an alternative proxy for transactions\n",
    "    costs:\n",
    "    $$\\text{ILLIQ}=\\left\\langle \\frac{|\\Delta P_t|}{V_t}\\right\\rangle$$\n",
    "    where $V_t$ is the absolute volume traded on day $t$. $\\langle \\cdot \\rangle = $ sample mean.\n",
    "\n",
    "\n",
    "-   It turns out that ILLIQ has a higher rank correlation with effective\n",
    "    spread than the Roll estimator.\n",
    "\n"
   ]
  },
  {
   "cell_type": "markdown",
   "metadata": {
    "slideshow": {
     "slide_type": "slide"
    }
   },
   "source": [
    "### The Madhavan Richardson and Roomans (MRR) model\n",
    "\n",
    "-   In the Glosten and Milgrom model, the price depends on order flow.\n",
    "\n",
    "\n",
    "-   In the MRR model, as in Glosten-Milgrom, the revision in beliefs is\n",
    "    positively correlated with the innovation in the order flow:\n",
    "\n",
    "    <a name=\"eq:MRRsurprise\"></a>(8)\n",
    "    $$\\Delta V_t=\\lambda\\,\\left(\\epsilon_t-\\mathbb{E} [\\epsilon_t|\\mathcal{F} _{t-1}]\\right)+e_t$$\n",
    "\n",
    "    where $V_t$ is the efficient price and $e_t$ represents for example\n",
    "    news."
   ]
  },
  {
   "cell_type": "markdown",
   "metadata": {
    "slideshow": {
     "slide_type": "subslide"
    }
   },
   "source": [
    "-   As in Glosten and Milgrom, the market maker posts bid and ask prices\n",
    "    that are conditioned on the trade being a buy or a sell.\n",
    "\n",
    "\n",
    "-   This leads to the empirical model\n",
    "\n",
    "    <a name=\"eq:MRRprice\"></a>(9)\n",
    "    $$p_t=V_t+\\phi\\,\\epsilon_t+\\xi_t$$\n",
    "\n",
    "    where $\\xi_t$ is iid noise that could represent rounding for\n",
    "    example."
   ]
  },
  {
   "cell_type": "markdown",
   "metadata": {
    "slideshow": {
     "slide_type": "slide"
    }
   },
   "source": [
    "### Autocorrelation of order flow\n",
    "\n",
    "-   Let $\\gamma$ be the probability of a continuation (in trade sign)\n",
    "    <p>\n",
    "    $$\\gamma=\\Pr[\\epsilon_t=\\epsilon_{t-1}].$$\n",
    "\n",
    "-   Because of trade-splitting, continuations are more likely than\n",
    "    reversals so $\\gamma > 1/2$.\n",
    "\n",
    "\n",
    "-   The first order autocorrelation $\\rho_1$ of trade signs is then\n",
    "    $2\\,\\gamma-1$."
   ]
  },
  {
   "cell_type": "markdown",
   "metadata": {
    "slideshow": {
     "slide_type": "slide"
    }
   },
   "source": [
    "### Expected trade sign\n",
    "\n",
    "-   Now model the order sign process as AR(1) so that\n",
    "    <p>\n",
    "    <p>\n",
    "    $$\\epsilon_t=\\rho\\,\\epsilon_{t-1}+\\eta_t$$ \n",
    "    <p>\n",
    "    where $\\eta_t$ is\n",
    "    independent noise. Then\n",
    "    $ \\mathbb{E} [\\epsilon_t|\\epsilon_{t-1}]=\\rho\\,\\epsilon_{t-1}$."
   ]
  },
  {
   "cell_type": "markdown",
   "metadata": {
    "slideshow": {
     "slide_type": "subslide"
    }
   },
   "source": [
    "-   From [(8)](#eq:MRRsurprise) and [(9)](#eq:MRRprice) we then obtain\n",
    "\n",
    "    <a name=\"eq:MRRdynamics\"></a>(11)\n",
    "    $$\\Delta p_t=(\\phi+\\lambda)\\,\\epsilon_t-(\\phi+\\rho\\,\\lambda)\\,\\epsilon_{t-1}+e_t+\\Delta \\xi_t$$\n",
    "\n",
    "    which does not involve the fair price $V_t$ and may be estimated\n",
    "    from data.\n",
    "\n",
    "    -   Note here the assumption that autocorrelation coefficients of\n",
    "        order higher than one are zero."
   ]
  },
  {
   "cell_type": "markdown",
   "metadata": {
    "slideshow": {
     "slide_type": "subslide"
    }
   },
   "source": [
    "-   Thus, in this model, price changes reflect:\n",
    "\n",
    "    -   The unexpected component of order flow - this is the main point for us.\n",
    "\n",
    "    -   News\n",
    "\n",
    "    -   Noise due to tick size and so on."
   ]
  },
  {
   "cell_type": "markdown",
   "metadata": {
    "slideshow": {
     "slide_type": "slide"
    }
   },
   "source": [
    "### MRR results\n",
    "\n",
    "<h2><img src=\"http://mfe.baruch.cuny.edu/wp-content/uploads/2015/02/MRR_Table2.png\" align = \"center\" width=700></h2>\n"
   ]
  },
  {
   "cell_type": "markdown",
   "metadata": {
    "slideshow": {
     "slide_type": "slide"
    }
   },
   "source": [
    "### Two quotes from MRR\n",
    "\n",
    "> The mean value of $\\theta$ (which we called $\\lambda$) falls by over a\n",
    "> third from the opening to the middle of the day (from 4.15 to 2.75\n",
    "> cents) and remains at this level until the final period where it\n",
    "> increases slightly.\n",
    "\n",
    "> The transaction cost element ($\\phi$) is approximately 3.4 cents in\n",
    "> the first half-hour and increases steadily over the day to 4.6 cents\n",
    "> in the final half-hour interval, a rise of about 30%.\n",
    "\n",
    "\n",
    "-   So, according to MRR, contributions from fixed costs and adverse\n",
    "    selection are roughly equal.\n",
    "\n",
    "    -   From our BAC data, $\\lambda = 0.035$ cents, $\\phi = 0.211$ cents\n",
    "        so nearly all of the effective spread is market maker profit.\n",
    "\n"
   ]
  },
  {
   "cell_type": "markdown",
   "metadata": {
    "slideshow": {
     "slide_type": "slide"
    }
   },
   "source": [
    "### The Huang and Stoll model\n",
    "\n",
    "-   In this model, the unobservable efficient price is first modeled as\n",
    "\n",
    "    <a name=\"eq:HuangStoll1\"></a>(12)\n",
    "    $$ \\Delta V_t = \\alpha\\,\\frac{s}{2}\\,\\epsilon_{t-1} + e_t$$\n",
    "\n",
    "    where $s$ is the spread and $\\alpha$ is how much of the spread may\n",
    "    be attributed to informed trading (adverse selection)."
   ]
  },
  {
   "cell_type": "markdown",
   "metadata": {
    "slideshow": {
     "slide_type": "subslide"
    }
   },
   "source": [
    "-   Also, according to the inventory model of Ho and Stoll, the\n",
    "    mid-price $m_t$ is given by\n",
    "\n",
    "    <a name=\"eq:HuangStoll2\"></a>(13)\n",
    "    $$\n",
    "    m_t=V_t+\\beta\\,\\frac{s}{2}\\,\\sum_{i<t}\\,\\epsilon_i\n",
    "    $$\n",
    "\n",
    "    so\n",
    "    $$\\Delta m_t = \\Delta  V_t +\\beta \\,\\frac{s}{2}\\,\\epsilon_{t-1}= (\\alpha+\\beta) \\,\\frac{s}{2}\\,\\epsilon_{t-1}+e_t$$"
   ]
  },
  {
   "cell_type": "markdown",
   "metadata": {
    "slideshow": {
     "slide_type": "slide"
    }
   },
   "source": [
    "### Changes in trade price\n",
    "\n",
    "-   Now we assume $$p_t=m_t+\\frac{s}{2}\\,\\epsilon_t+\\xi_t$$\n",
    "\n",
    "\n",
    "-   This gives\n",
    "    \\begin{eqnarray*}\n",
    "    \\Delta p_t &=& (\\alpha+\\beta) \\,\\frac{s}{2}\\,\\epsilon_{t-1} + \\frac{s}{2}\\, \\Delta \\epsilon_t + e_t + \\Delta \\xi_t \\\\\n",
    "    &=& (\\alpha + \\beta - 1) \\,\\frac{s}{2}\\,\\epsilon_{t-1} + \\frac s2 \\epsilon_t + e_t + \\Delta \\xi_t\n",
    "    \\end{eqnarray*}\n",
    "    which is amenable to estimation because it does not depend on\n",
    "    unobservables.\n",
    "\n",
    "    -   Note that the effects of $\\alpha$ and $\\beta$ cannot be\n",
    "        distinguished."
   ]
  },
  {
   "cell_type": "markdown",
   "metadata": {
    "slideshow": {
     "slide_type": "subslide"
    }
   },
   "source": [
    "-   The Roll model may be recovered by setting $\\alpha=\\beta=0$ to get\n",
    "    $$\\Delta p_t =\\frac{s}{2}\\, \\Delta \\epsilon_t + \\eta_t$$ \n",
    "    for some noise $\\eta_t$."
   ]
  },
  {
   "cell_type": "markdown",
   "metadata": {
    "slideshow": {
     "slide_type": "slide"
    }
   },
   "source": [
    "### Distinguishing adverse selection and inventory effects\n",
    "\n",
    "-   In inventory models, a change in the quote changes the arrival rate\n",
    "    of trades.\n",
    "\n",
    "    -   This induces negative serial covariance in mid-quotes, separate\n",
    "        from and in addition to the bid-ask bounce in $\\Delta p_t$.\n",
    "\n",
    "\n",
    "-   Let $\\pi$ be the probability of a reversal. Then\n",
    "    $$\\mathbb{E} [\\epsilon_{t-1}|\\epsilon_{t-2}]=(1-2\\,\\pi)\\,\\epsilon_{t-2}$$"
   ]
  },
  {
   "cell_type": "markdown",
   "metadata": {
    "slideshow": {
     "slide_type": "subslide"
    }
   },
   "source": [
    "-   We modify [(12)](#eq:HuangStoll1) accordingly:\n",
    "\n",
    "    <a name=\"eq:HuangStoll22\"></a>(14)\n",
    "    \\begin{eqnarray*}\n",
    "    \\Delta V_t&=&\\alpha\\,\\frac{s}{2}\\,\\left(\\epsilon_{t-1}-\\mathbb{E} [\\epsilon_{t-1}|\\epsilon_{t-2}]\\right)+e_t\\nonumber\\\\\n",
    "    &=&\\alpha\\,\\frac{s}{2}\\,\\epsilon_{t-1}-\\alpha\\,\\frac{s}{2}\\,(1-2\\,\\pi)\\,\\epsilon_{t-2}+e_t\n",
    "    \\end{eqnarray*}\n",
    "\n",
    "\n",
    "-   Note that $$\\mathbb{E} [\\Delta V_t|V_{t-1},\\epsilon_{t-2}]=0$$"
   ]
  },
  {
   "cell_type": "markdown",
   "metadata": {
    "slideshow": {
     "slide_type": "slide"
    }
   },
   "source": [
    "### Distinguishing adverse selection and inventory effects\n",
    "\n",
    "-   Combining [(13)](#eq:HuangStoll2) and [(14)](#eq:HuangStoll22) gives\n",
    "\n",
    "    <a name=\"eq:HuangStoll23\"></a>(15)\n",
    "    $$\\Delta m_t=(\\alpha+\\beta)\\,\\frac{s}{2}\\,\\epsilon_{t-1}-\\alpha\\,\\frac{s}{2}\\,(1-2\\,\\pi)\\,\\epsilon_{t-2}+e_t$$\n",
    "\n",
    "-   Note that what matters for inventory is not the unexpected portion\n",
    "    of the trade sign but the actual trade sign.\n",
    "\n",
    "-   Also, mid-quote changes are predictable:\n",
    "    $$\\mathbb{E} [\\Delta m_t|m_{t-1},\\epsilon_{t-2}]=\\beta\\,\\frac{s}{2}\\,(1-2\\,\\pi)\\,\\epsilon_{t-2}$$\n",
    "\n",
    "-   Equation [(15)](#eq:HuangStoll23) may be estimated directly or combined with [(13)](#eq:HuangStoll2) to give\n",
    "\n",
    "    <a name=\"eq:HuangStollPriceRegression\"></a>(16)\n",
    "    $$\\Delta p_t=\\frac{s}{2}\\,\\epsilon_t+(\\alpha+\\beta-1)\\,\\frac s2\\epsilon_{t-1}-\\alpha\\,\\frac{s}{2}\\,\\epsilon_{t-2}+e_t$$\n",
    "\n"
   ]
  },
  {
   "cell_type": "markdown",
   "metadata": {
    "slideshow": {
     "slide_type": "slide"
    }
   },
   "source": [
    "### Comments\n",
    "\n",
    "-   Why stop at $\\epsilon_{t-2}$? The trade sign process is supposedly\n",
    "    long-memory and so all higher order autocovariances are positive.\n",
    "\n",
    "\n",
    "-   Equation [(14)](#eq:HuangStoll22) would then become\n",
    "    $$\\Delta V_t=\\alpha\\,\\frac{s}{2}\\,\\left(\\epsilon_{t-1}-\\mathbb{E} [\\epsilon_{t-1}|\\mathcal{F} _{t-1}]\\right)+e_t$$\n",
    "\n",
    "\n",
    "-   We could use any forecasting model we liked to compute\n",
    "    $\\mathbb{E} [\\epsilon_{t-1}|\\mathcal{F} _{t-1}]$.\n",
    "\n"
   ]
  },
  {
   "cell_type": "markdown",
   "metadata": {
    "slideshow": {
     "slide_type": "slide"
    }
   },
   "source": [
    "### Empirical results\n",
    "\n",
    "-   Huang and Stoll data is from all trading days in 1992.\n",
    "\n",
    "\n",
    "-   It is notable that the most highly traded stock in their sample is\n",
    "    MO with 751 trades per day.\n",
    "\n",
    "    -   1992 MO volume traded per day was around 5.6 million shares.\n",
    "\n",
    "    -   Recent MO volume traded per day is around 8 million shares over\n",
    "        roughly 50,000 trades. Times have changed!"
   ]
  },
  {
   "cell_type": "markdown",
   "metadata": {
    "slideshow": {
     "slide_type": "subslide"
    }
   },
   "source": [
    "Quote from Huang and Stoll:\n",
    "\n",
    "> Under the adjusted results, the average order processing component of\n",
    "> the traded spread is 61.8%, the average adverse information component\n",
    "> is 9.6% ($\\alpha$), and the average inventory cost component ($\\beta$)\n",
    "> is 28.7%.\n",
    "\n",
    "With our BAC data, $\\frac s2 = 0.244$ cents, $\\alpha = -4.3\\%$,\n",
    "$\\beta = 9.5\\%$."
   ]
  },
  {
   "cell_type": "markdown",
   "metadata": {
    "slideshow": {
     "slide_type": "subslide"
    }
   },
   "source": [
    "R-code to estimate Huang and Stoll equation (16)"
   ]
  },
  {
   "cell_type": "code",
   "execution_count": 28,
   "metadata": {
    "slideshow": {
     "slide_type": "fragment"
    }
   },
   "outputs": [
    {
     "data": {
      "text/plain": [
       "\n",
       "Call:\n",
       "lm(formula = dp1 ~ eps0 + epsm1 + epsm2)\n",
       "\n",
       "Coefficients:\n",
       "(Intercept)         eps0        epsm1        epsm2  \n",
       "  3.243e-05    2.443e-03   -2.318e-03    1.061e-04  \n"
      ]
     },
     "metadata": {},
     "output_type": "display_data"
    },
    {
     "data": {
      "text/html": [
       "<table>\n",
       "<thead><tr><th></th><th scope=col>s2</th><th scope=col>alpha</th><th scope=col>beta</th></tr></thead>\n",
       "<tbody>\n",
       "\t<tr><th scope=row>eps0</th><td>0.002443051</td><td>-0.04340978</td><td>0.09466521 </td></tr>\n",
       "</tbody>\n",
       "</table>\n"
      ],
      "text/latex": [
       "\\begin{tabular}{r|lll}\n",
       "  & s2 & alpha & beta\\\\\n",
       "\\hline\n",
       "\teps0 & 0.002443051 & -0.04340978 & 0.09466521 \\\\\n",
       "\\end{tabular}\n"
      ],
      "text/markdown": [
       "\n",
       "| <!--/--> | s2 | alpha | beta | \n",
       "|---|\n",
       "| eps0 | 0.002443051 | -0.04340978 | 0.09466521  | \n",
       "\n",
       "\n"
      ],
      "text/plain": [
       "     s2          alpha       beta      \n",
       "eps0 0.002443051 -0.04340978 0.09466521"
      ]
     },
     "metadata": {},
     "output_type": "display_data"
    }
   ],
   "source": [
    "eps0 <- tradeSigns[-c(1,2)]\n",
    "epsm1 <- tradeSigns[-c(1,n)]\n",
    "epsm2 <- tradeSigns[-c(n-1,n)]\n",
    "dp1 <- dp[-1]\n",
    "\n",
    "\n",
    "(fit.hs16 <- lm(dp1 ~ eps0 + epsm1 + epsm2))\n",
    "\n",
    "s2 <- fit.hs16$coeff[2] # The effective half-spread\n",
    "alpha <- -fit.hs16$coeff[4]/s2\n",
    "beta <- fit.hs16$coeff[3]/s2 -alpha+1\n",
    "data.frame(s2,alpha,beta)"
   ]
  },
  {
   "cell_type": "markdown",
   "metadata": {
    "slideshow": {
     "slide_type": "slide"
    }
   },
   "source": [
    "### The PIN model\n",
    "\n",
    "-   The Glosten and Milgrom model is extended to include the arrival of\n",
    "    news.\n",
    "\n",
    "-   Agents are not sequentially drawn in discrete time but arrive\n",
    "    randomly in continuous time. Events are modeled as Poisson\n",
    "    processes.\n",
    "\n",
    "    -   News arrives with intensity(probability) $\\alpha$. It is good news with\n",
    "        probability $\\delta$, bad news with probability $1-\\delta$.\n",
    "\n",
    "    -   Informed trades arrive with intensity $\\mu$.\n",
    "\n",
    "    -   Uninformed buys arrive with intensity $\\epsilon$.\n",
    "\n",
    "    -   Uninformed sells arrive with intensity $\\epsilon$.\n",
    "\n",
    "#### Note\n",
    "If the news arrives as a Poisson process with intensity $\\alpha$, then the probability of no news within the time period $[0, T]$ is $e^{-\\alpha T} \\approx 1 - \\alpha T$ if $T$ is small enough. \n"
   ]
  },
  {
   "cell_type": "markdown",
   "metadata": {
    "slideshow": {
     "slide_type": "slide"
    }
   },
   "source": [
    "### PIN model event tree\n",
    "\n",
    "<h2><img src=\"http://mfe.baruch.cuny.edu/wp-content/uploads/2015/02/PINEventTree.png\" align = \"center\" width=900></h2>\n"
   ]
  },
  {
   "cell_type": "markdown",
   "metadata": {
    "slideshow": {
     "slide_type": "slide"
    }
   },
   "source": [
    "### Unconditional arrival rates\n",
    "\n",
    "The total arrival rate of buy orders is given by\n",
    "\n",
    "$$\n",
    "\\lambda_{Buy} = \\alpha\\,  \\delta  \\,(\\epsilon +\\mu )+\\alpha \\, (1-\\delta )\\, \\epsilon +(1-\\alpha\n",
    "   )\\, \\epsilon = \\alpha\\,  \\delta\\,  \\mu +\\epsilon\n",
    "$$\n",
    "\n",
    "Similarly, the total arrival rate of sell orders is given by\n",
    "\n",
    "$$\\lambda_{Sell}=(1-\\delta)\\,  \\alpha\\,  \\mu +\\epsilon$$ \n",
    "\n",
    "and the total arrival rate by \n",
    "\n",
    "$$\\lambda=\\alpha\\,\\mu+2\\,\\epsilon.$$\n",
    "\n"
   ]
  },
  {
   "cell_type": "markdown",
   "metadata": {
    "slideshow": {
     "slide_type": "slide"
    }
   },
   "source": [
    "### PIN\n",
    "\n",
    "The *probability of informed trading* (PIN) is the unconditional probability\n",
    "that a randomly chosen trader on a randomly chosen day is informed:\n",
    "\n",
    "$$PIN=\\frac{\\alpha\\,\\mu}{\\alpha\\,\\mu+2\\,\\epsilon}$$\n",
    "\n",
    "-   PIN is estimated by maximum likelihood.\n",
    "\n"
   ]
  },
  {
   "cell_type": "markdown",
   "metadata": {
    "slideshow": {
     "slide_type": "slide"
    }
   },
   "source": [
    "### Maximum likelihood estimation of PIN\n",
    "\n",
    "-   Assume we can sign trades to give a sequence of buys and sells.\n",
    "\n",
    "-   The likelihood function is the relative probability of observing a\n",
    "    given number of buys and sells given the parameters\n",
    "    $\\psi=\\{\\alpha,\\delta, \\mu, \\epsilon\\}$ of the model.\n",
    "\n",
    "-   The probability of observing $n$ events in time $T$ when the\n",
    "    underlying process is Poisson with rate $\\lambda$ is\n",
    "    $$e^{-\\lambda\\,T}\\,\\frac{{(\\lambda\\,T)}^n}{n!}$$\n",
    "\n"
   ]
  },
  {
   "cell_type": "markdown",
   "metadata": {
    "slideshow": {
     "slide_type": "slide"
    }
   },
   "source": [
    "### Maximum likelihood estimation of PIN\n",
    "\n",
    "-   We take $\\mu$ and $\\epsilon$ to be daily rates and consider the\n",
    "    number of buys $B$ and sells $S$ over one day $T = 1$.\n",
    "\n",
    "\n",
    "-   Then\n",
    "\n",
    "    \\begin{eqnarray*}\n",
    "    && L(B,S;\\psi) \\\\\n",
    "    &=& \\Pof{B \\mbox{ buys and } S \\mbox{ sells}|\\mbox{No news}} \\Pof{\\mbox{No news}} \\\\\n",
    "    && + \\, \\Pof{B \\mbox{ buys and } S \\mbox{ sells; good news}|\\mbox{There are news}} \\Pof{\\mbox{There are news}} \\\\\n",
    "    && + \\, \\Pof{B \\mbox{ buys and } S \\mbox{ sells; bad news}|\\mbox{There are news}} \\Pof{\\mbox{There are news}} \\\\\n",
    "    &=& e^{-\\alpha} \\, e^{-2\\,\\epsilon}\\,\\frac{\\epsilon^{B+S}}{B!\\,S!} \\\\\n",
    "    && + \\left( 1 - e^{-\\alpha}\\right)\\,\\delta\\,e^{-(\\epsilon+\\mu)}\\,\\frac{(\\epsilon+\\mu)^B}{B!}\\,e^{-\\epsilon}\\,\\frac{\\epsilon^S}{S!}\n",
    "    \\\\&& + \\left( 1 - e^{-\\alpha}\\right)\\,(1-\\delta)\\,e^{-\\epsilon}\\,\\frac{\\epsilon^B}{B!}\\,e^{-(\\epsilon+\\mu)}\\,\\frac{(\\epsilon+\\mu)^S}{S!} \\\\\n",
    "    &\\approx& (1 - \\alpha) \\, e^{-2\\,\\epsilon}\\,\\frac{\\epsilon^{B+S}}{B!\\,S!} \\\\\n",
    "    && + \\alpha\\,\\delta\\,e^{-(\\epsilon+\\mu)}\\,\\frac{(\\epsilon+\\mu)^B}{B!}\\,e^{-\\epsilon}\\,\\frac{\\epsilon^S}{S!}\n",
    "    \\\\&&+ \\alpha\\,(1-\\delta)\\,e^{-\\epsilon}\\,\\frac{\\epsilon^B}{B!}\\,e^{-(\\epsilon+\\mu)}\\,\\frac{(\\epsilon+\\mu)^S}{S!}\n",
    "    \\end{eqnarray*}\n",
    "    \n",
    "#### Note\n",
    "By the nature of Poisson processes, the probability of having two news in a short period of time is negligible.  "
   ]
  },
  {
   "cell_type": "markdown",
   "metadata": {
    "slideshow": {
     "slide_type": "subslide"
    }
   },
   "source": [
    "-   The parameters $\\psi$ are estimated by maximizing $L(B,S;\\psi)$."
   ]
  },
  {
   "cell_type": "markdown",
   "metadata": {
    "slideshow": {
     "slide_type": "slide"
    }
   },
   "source": [
    "### Criticisms of PIN\n",
    "\n",
    "-   Every day is a new day: Each day’s trading is independent of the\n",
    "    previous day, <font color=blue> due to the modeling assumption of Poisson processes.  </font>\n",
    "\n",
    "-   Because of multiple trade reports, the trade-signing process itself\n",
    "    is suspect.\n",
    "\n",
    "-   News events occur at the start of trading. <font color=blue> Need to take into account the higher order terms.  </font>\n",
    "\n",
    "-   There are only two possible results, high and low.\n",
    "\n",
    "-   $\\alpha$ and $\\mu$ enter into PIN only through the product\n",
    "    $\\alpha\\,\\mu$: Estimates for $\\alpha$ and $\\mu$ separately are less\n",
    "    precise.\n",
    "\n"
   ]
  },
  {
   "cell_type": "markdown",
   "metadata": {
    "slideshow": {
     "slide_type": "slide"
    }
   },
   "source": [
    "### Interpretation of PIN\n",
    "\n",
    "-   Subsequent papers by Easley, O’Hara et al. have shown that PIN is an\n",
    "    explanatory variable for the cross-section of returns.\n",
    "\n",
    "    -   In fact, it can apparently replace momentum in the\n",
    "        Fama-French-plus-momentum factor model favored by for example\n",
    "        AQR.\n",
    "\n",
    "-   Perhaps because of this, PIN is used by equity long-short traders.\n",
    "\n",
    "-   Given the highly stylized assumptions, it’s not at all clear that\n",
    "    PIN measures informed trading. It does probably give a good\n",
    "    indication of order-flow one-sidedness (or momentum).\n",
    "\n",
    "    -   This is termed <span>*information risk*</span> by the authors.\n",
    "\n"
   ]
  },
  {
   "cell_type": "markdown",
   "metadata": {
    "slideshow": {
     "slide_type": "slide"
    }
   },
   "source": [
    "### PIN and VPIN: Academic gossip\n",
    "\n",
    "- PIN has generated a lot of controversy.  See for example https://www.econjobrumors.com/topic/journal-of-financial-markets-paper-withdrawn.  \n",
    "\n",
    "\n",
    "- In particular, there is an impressive critique by Anderson and Bondarenko:\n",
    "\n",
    ">The Volume-Synchronized Probability of Informed trading (VPIN) metric is introduced by Easley, Lopez de Prado, and O'Hara (2011a) as a real-time indicator of order flow toxicity. They find the measure useful in monitoring order flow imbalances and conclude it may help signal impending market turmoil, exemplified by historical high readings of the metric prior to the flash crash. More generally, they show that VPIN is significantly correlated with future short-term return volatility. In contrast, our empirical investigation of VPIN documents that it is a poor predictor of short run volatility, that it did not reach an all-time high prior, but rather after, the flash crash, and that its predictive content is due primarily to a mechanical relation with the underlying trading intensity. We also investigate a later incarnation of VPIN, stemming from Easley, Lopez de Prado, and O'Hara (2012a), and reach similar conclusions. In general, we stress that adoption of any specific metric for order flow toxicity should be contingent on satisfactory performance relative to suitable benchmarks, exemplified by the analysis we undertake here."
   ]
  },
  {
   "cell_type": "markdown",
   "metadata": {
    "slideshow": {
     "slide_type": "slide"
    }
   },
   "source": [
    "### Features of models studied so far\n",
    "\n",
    "-   The component of the bid-ask spread relating to order processing\n",
    "    costs is an immediate cost. This cost of trading is temporary and\n",
    "    has no price impact.\n",
    "\n",
    "-   The component of the bid-ask spread due to inventory effects has\n",
    "    temporary impact on the price that takes some time to dissipate.\n",
    "\n",
    "-   The component of the bid-ask spread due to information effects\n",
    "    (adverse selection) is permanent.\n",
    "\n",
    "    -   In the more sophisticated models, only the unexpected component\n",
    "        of order flow impacts the price.\n",
    "\n"
   ]
  },
  {
   "cell_type": "markdown",
   "metadata": {
    "slideshow": {
     "slide_type": "slide"
    }
   },
   "source": [
    "### Adverse selection\n",
    "\n",
    "-   In the traditional microstructure literature, adverse selection is\n",
    "    typically conflated with the effect of informed trading.\n",
    "\n",
    "-   Recall the quote from [Hasbrouck]<sup id=\"cite_ref-Hasbrouck\" class=\"reference\"><a href=\"#cite_note-Hasbrouck\"><span>[</span>5<span>]</span></a></sup>:\n",
    "\n",
    "    > Orders do not impact prices. It is more accurate to say that\n",
    "    > orders forecast prices."
   ]
  },
  {
   "cell_type": "markdown",
   "metadata": {
    "slideshow": {
     "slide_type": "subslide"
    }
   },
   "source": [
    "-   It could be that prices move because of the impact of orders, a\n",
    "    purely mechanical explanation.\n",
    "\n",
    "    -   It could be that the main information that traders have is the\n",
    "        ultimate size of their own order (or <span>*metaorder*</span>).\n",
    "        The market sees only the part of the metaorder that has already\n",
    "        been revealed."
   ]
  },
  {
   "cell_type": "markdown",
   "metadata": {
    "slideshow": {
     "slide_type": "slide"
    }
   },
   "source": [
    "### References\n",
    "\n",
    "<br />\n",
    "\n",
    "<div class=\"reflist\" style=\"list-style-type: decimal;\">\n",
    "\n",
    "<ol>\n",
    "\n",
    "  <li id=\"cite_note-BNS\"><span class=\"mw-cite-backlink\"><b><a href=\"#cite_ref-BNS\">^</a></b></span>O.E Barndorff-Nielsen, P.R Hansen, A Lunde, N Shephard, Realized kernels\n",
    "in practice: Trades and quotes, <span>*Econometrics Journal*</span>\n",
    "<span>**12 (3)**</span> 1–32 (2009).\n",
    "  \n",
    "  </li>\n",
    "\n",
    "  <li id=\"cite_note-Bessembinder\"><span class=\"mw-cite-backlink\"><b><a href=\"#cite_ref-Bessembinder\">^</a></b></span>Hendrik Bessembinder, Issues in assessing trade execution costs,\n",
    "<span>*Journal of Financial Markets*</span> <span>**6**</span>(3)\n",
    "233–257 (2003).\n",
    "  \n",
    "  </li>\n",
    "  \n",
    "  \n",
    "  <li id=\"cite_note-BouchaudFarmerLillo\"><span class=\"mw-cite-backlink\"><b><a href=\"#cite_ref-BouchaudFarmerLillo\">^</a></b></span>Jean-Philippe Bouchaud, J. Doyne Farmer, and Fabrizio Lillo, How Markets\n",
    "Slowly Digest Changes in Supply and Demand, in <span>*Handbook of\n",
    "Financial Markets: Dynamics and Evolution*</span> 57-156. (2009)\n",
    "available at\n",
    "http://tuvalu.santafe.edu/%7Ejdf/papers/MarketsSlowlyDigest.pdf: Section\n",
    "7.\n",
    "  \n",
    "  </li>\n",
    "\n",
    "  <li id=\"cite_note-FPR\"><span class=\"mw-cite-backlink\"><b><a href=\"#cite_ref-FPR\">^</a></b></span>Thierry Foucault, Marco Pagano and Ailsa Röell, <span>*Market\n",
    "Liqudity*</span>, Oxford University Press, Chapters 2 and 3. (2013).\n",
    "  \n",
    "  </li>\n",
    "  \n",
    "  \n",
    "  \n",
    "  <li id=\"cite_note-Hasbrouck\"><span class=\"mw-cite-backlink\"><b><a href=\"#cite_ref-Hasbrouck\">^</a></b></span>Joel Hasbrouck, <span>*Empirical Market Microstructure*</span>, Oxford\n",
    "University Press, Chapters 5 and 6 (2007).\n",
    "  \n",
    "  </li>\n",
    "  \n",
    "  \n",
    "  <li id=\"cite_note-HuangStoll\"><span class=\"mw-cite-backlink\"><b><a href=\"#cite_ref-HuangStoll\">^</a></b></span>Roger D. Huang and Hans R. Stoll, The components of the bid-ask spread:\n",
    "A general approach, <span>*Review of Financial Studies*</span>\n",
    "<span>**10**</span>(4) 995–1034 (1997).\n",
    "  \n",
    "  </li>\n",
    "  \n",
    "  \n",
    "  \n",
    "  <li id=\"cite_note-MRR\"><span class=\"mw-cite-backlink\"><b><a href=\"#cite_ref-MRR\">^</a></b></span>Ananth Madhavan, Matthew Richardson, Mark Roomans, Why do security\n",
    "prices change? A transaction-level analysis of NYSE stocks,\n",
    "<span>*Review of Financial Studies*</span> <span>**10**</span>(4)\n",
    "1035–1064 (1997).\n",
    "  \n",
    "  </li>\n",
    "  \n",
    "  <li id=\"cite_note-WyartEtAl\"><span class=\"mw-cite-backlink\"><b><a href=\"#cite_ref-WyartEtAl\">^</a></b></span>Matthieu Wyart, Jean-Philippe Bouchaud, Julien Kockelkoren, Marc Potters\n",
    "and Michele Vettorazzo, Relation between bid-ask spread, impact and\n",
    "volatility in order-driven markets, <span>*Quantitative Finance*</span>\n",
    "<span>**8**</span>(1) 41–57 (2008).\n",
    "  \n",
    "  </li>\n",
    "  \n",
    "  \n",
    "</ol>"
   ]
  }
 ],
 "metadata": {
  "celltoolbar": "Slideshow",
  "kernelspec": {
   "display_name": "R",
   "language": "R",
   "name": "ir"
  },
  "language_info": {
   "codemirror_mode": "r",
   "file_extension": ".r",
   "mimetype": "text/x-r-source",
   "name": "R",
   "pygments_lexer": "r",
   "version": "3.5.1"
  }
 },
 "nbformat": 4,
 "nbformat_minor": 1
}
