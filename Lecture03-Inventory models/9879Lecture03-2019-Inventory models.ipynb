{
 "cells": [
  {
   "cell_type": "markdown",
   "metadata": {
    "slideshow": {
     "slide_type": "slide"
    }
   },
   "source": [
    "## MTH 9879 Market Microstructure Models,    Spring 2019\n",
    "\n",
    "### Lecture 3: Inventory models and market-making\n",
    "\n",
    "Jim Gatheral \n",
    "Department of Mathematics   \n",
    "  \n",
    "  \n",
    "<h3><img src=\"http://mfe.baruch.cuny.edu/wp-content/uploads/2016/04/MFE-Logo.jpg\" align = \"center\" width=500></h3>\n",
    "\n",
    "\n",
    "$$\n",
    "\\newcommand{\\bea}{\\begin{eqnarray}}\n",
    "\\newcommand{\\eea}{\\end{eqnarray}}\n",
    "\\newcommand{\\supp}{\\mathrm{supp}}\n",
    "\\newcommand{\\F}{\\mathcal{F} }\n",
    "\\newcommand{\\cF}{\\mathcal{F} }\n",
    "\\newcommand{\\E}{\\mathbb{E} }\n",
    "\\newcommand{\\Eof}[1]{\\mathbb{E}\\left[ #1 \\right]}\n",
    "\\def\\Cov{{ \\mbox{Cov} }}\n",
    "\\def\\Var{{ \\mbox{Var} }}\n",
    "\\newcommand{\\1}{\\mathbf{1} }\n",
    "\\newcommand{\\p}{\\partial}\n",
    "\\newcommand{\\PP}{\\mathbb{P} }\n",
    "\\newcommand{\\Pof}[1]{\\mathbb{P}\\left[ #1 \\right]}\n",
    "\\newcommand{\\QQ}{\\mathbb{Q} }\n",
    "\\newcommand{\\R}{\\mathbb{R} }\n",
    "\\newcommand{\\DD}{\\mathbb{D} }\n",
    "\\newcommand{\\HH}{\\mathbb{H} }\n",
    "\\newcommand{\\spn}{\\mathrm{span} }\n",
    "\\newcommand{\\cov}{\\mathrm{cov} }\n",
    "\\newcommand{\\HS}{\\mathcal{L}_{\\mathrm{HS}} }\n",
    "\\newcommand{\\Hess}{\\mathrm{Hess} }\n",
    "\\newcommand{\\trace}{\\mathrm{trace} }\n",
    "\\newcommand{\\cL}{\\mathcal{L} }\n",
    "\\newcommand{\\cG}{\\mathcal{G} }\n",
    "\\newcommand{\\Xv}{X^{(v)}}\n",
    "\\newcommand{\\s}{\\mathcal{S} }\n",
    "\\newcommand{\\cE}{\\mathcal{E} }\n",
    "\\newcommand{\\ff}{\\mathcal{F} }\n",
    "\\newcommand{\\hh}{\\mathcal{H} }\n",
    "\\newcommand{\\bb}{\\mathcal{B} }\n",
    "\\newcommand{\\dd}{\\mathcal{D} }\n",
    "\\newcommand{\\g}{\\mathcal{G} }\n",
    "\\newcommand{\\half}{\\frac{1}{2} }\n",
    "\\newcommand{\\T}{\\mathcal{T} }\n",
    "\\newcommand{\\bit}{\\begin{itemize}}\n",
    "\\newcommand{\\eit}{\\end{itemize}}\n",
    "\\newcommand{\\beq}{\\begin{equation}}\n",
    "\\newcommand{\\eeq}{\\end{equation}}\n",
    "\\newcommand{\\beas}{\\begin{eqnarray*}}\n",
    "\\newcommand{\\eeas}{\\end{eqnarray*}}\n",
    "\\newcommand{\\tr}{\\mbox{tr}}\n",
    "\\newcommand{\\ee}[1]{{\\mathbb{E}\\left[{#1}\\right]}}\n",
    "\\newcommand{\\eef}[1]{{\\mathbb{E}\\left[\\left.{#1}\\right|\\cF_t\\right]}}\n",
    "\\newcommand{\\eefm}[2]{{\\mathbb{E}^{#2}\\left[\\left.{#1}\\right|\\cF_t\\right]}}\n",
    "\\newcommand{\\angl}[1]{{\\langle{#1}\\rangle}}\n",
    "$$\n",
    "\n"
   ]
  },
  {
   "cell_type": "markdown",
   "metadata": {
    "slideshow": {
     "slide_type": "slide"
    }
   },
   "source": [
    "## Outline of Lecture 3\n",
    "\n",
    "* The Garman (1976) model\n",
    "* Amihud and Mendelson (1980)\n",
    "* The Stoll (1978) model\n",
    "* Ho and Stoll (1981)\n",
    "* Dynamic programming principle and the Hamilton-Jacobi-Bellman (HJB) equation\n",
    "* Avellaneda and Stoikov (2008)\n",
    "* Gu&eacute;ant, Lehalle and Fernandez-Tapia (2013)\n",
    "* Guilbaud and Pham (2013)"
   ]
  },
  {
   "cell_type": "markdown",
   "metadata": {
    "slideshow": {
     "slide_type": "slide"
    }
   },
   "source": [
    "### Garman (1976)\n",
    "\n",
    "* A quote from Garman (1976):\n",
    "    \n",
    "    *We depart from the usual approaches of the theory of exchange by (1) making the assumption of asynchronous, temporally discrete market activities on the part of market agents and (2) adopting a viewpoint which makes the temporal microstructure, i.e., moment-to-moment aggregate exchange behavior, as an important descriptive aspect of such markets.*"
   ]
  },
  {
   "cell_type": "markdown",
   "metadata": {
    "slideshow": {
     "slide_type": "slide"
    }
   },
   "source": [
    "* Dealers are needed because buyers and sellers don’t arrive synchronously.\n",
    "    * In our context, agents may act as market makers without necessarily being dealers as such."
   ]
  },
  {
   "cell_type": "markdown",
   "metadata": {
    "slideshow": {
     "slide_type": "slide"
    }
   },
   "source": [
    "### Garman (1976)\n",
    "\n",
    "- MB orders arrive at rate $\\lambda_A(p)$ and MS orders at rate $\\lambda_B(p)$, both functions of the price $p$.\n",
    "\n",
    "    - $\\lambda_A(p)$ is decreasing in $p$ and $\\lambda_B(p)$ is increasing in $p$.\n",
    "\n",
    "\n",
    "- If the dealer were to quote a choice price, the graphs would cross at $p^\\star$ given by:\n",
    "    $$\n",
    "    \\lambda_A(p^\\star)=\\lambda_B(p^\\star)=:\\lambda^\\star\n",
    "    $$"
   ]
  },
  {
   "cell_type": "markdown",
   "metadata": {
    "slideshow": {
     "slide_type": "subslide"
    }
   },
   "source": [
    "- If instead the dealer quotes a two-way price $\\{B,A\\}$, and on average $\\lambda_A(A)=\\lambda_B(B)=:\\tilde \\lambda$, the P&L per unit of time will be given by\n",
    "\n",
    "    $$\n",
    "    \\pi(B,A)=(A-B)\\,\\tilde \\lambda = \\left(P_A(\\tilde \\lambda) - P_B(\\tilde \\lambda)\\right)\\,\\tilde \\lambda.\n",
    "    $$\n",
    "\n",
    "    - The wider the spread, the greater the P&L per trade but the lower the rate of trading.\n",
    "    \n",
    "    - The dealer finds the optimal bid and offer by maximizing P&L per unit time.\n",
    "\n",
    "\n",
    "- <font color=red> The two-way price $\\{B,A\\}$ is set once and for all.  </font>"
   ]
  },
  {
   "cell_type": "markdown",
   "metadata": {
    "slideshow": {
     "slide_type": "slide"
    }
   },
   "source": [
    "### Garman model schematic\n",
    "\n",
    "<h2><img src=\"http://mfe.baruch.cuny.edu/wp-content/uploads/2015/02/Garman.png\" align = \"center\" width=700></h2>\n",
    "\n",
    "Figure 1: As the price increases, the rate $\\lambda_B$ of MS increases, the rate $\\lambda_A$ of MB decreases."
   ]
  },
  {
   "cell_type": "markdown",
   "metadata": {
    "slideshow": {
     "slide_type": "slide"
    }
   },
   "source": [
    "### Garman (1976)\n",
    "\n",
    "- The dealer needs to hold cash and securities in order to be able to accommodate asynchronous buying and selling.\n",
    "\n",
    "\n",
    "- Garman assumes that the bid $B$ and ask $A$ are set once and for all.  This implies that\n",
    "    - Cash holdings follow a zero-drift random walk.\n",
    "    - Stock holdings follow a zero-drift random walk."
   ]
  },
  {
   "cell_type": "markdown",
   "metadata": {
    "slideshow": {
     "slide_type": "subslide"
    }
   },
   "source": [
    "- The dealer is ruined with probability one.\n",
    "    - With realistic parameters, he is ruined in a few days!\n",
    "\n",
    "\n",
    "- The main intuition is then <br>\n",
    "    *[Garman] ``The order of magnitude makes it clear that the specialists must pursue a policy of relating their prices to their inventories in order to avoid failure.''*"
   ]
  },
  {
   "cell_type": "markdown",
   "metadata": {
    "slideshow": {
     "slide_type": "slide"
    }
   },
   "source": [
    "### Amihud and Mendelson (1980)\n",
    "\n",
    "- Framework similar to Garman.\n",
    "\n",
    "\n",
    "- Inventory is constrained to lie between given lower and upper bounds.\n",
    "\n",
    "\n",
    "- <font color=red> The monopolistic market maker sets two-way price dynamically in order to maximize expected profit per unit time in equilibrium. </font>"
   ]
  },
  {
   "cell_type": "markdown",
   "metadata": {
    "slideshow": {
     "slide_type": "slide"
    }
   },
   "source": [
    "### Amihud and Mendelson implications\n",
    "\n",
    "- $B$ and $A$ are monotone decreasing functions of inventory.\n",
    "\n",
    "\n",
    "- There is a spread $s = A − B > 0$.\n",
    "\n",
    "\n",
    "- There is a preferred inventory and $s$ is an increasing function of the distance from this preferred inventory position.\n",
    "\n",
    "\n",
    "- The quotes are not set symmetrically about fair value."
   ]
  },
  {
   "cell_type": "markdown",
   "metadata": {
    "slideshow": {
     "slide_type": "slide"
    }
   },
   "source": [
    "### CARA utility\n",
    "\n",
    "- CARA stands for *Constant Absolute Risk Aversion*.\n",
    "\n",
    "    - The Arrow-Pratt measure of absolute risk-aversion (ARA), a.k.a., the *coefficient of absolute risk aversion*, $A$ of a utility function $U$ is defined as $A = -\\frac{U''}{U'}$.\n",
    "    - Exponential utility $U(x)=\\frac1\\alpha\\left(1-e^{-\\alpha x}\\right)$ is unique in exhibiting constant absolute risk aversion (CARA). Indeed, $A(x) = \\alpha$ for exponential utility.\n",
    "    - Sometimes exponential utility is quoted in the form $U(x) = -e^{-\\alpha\\,x}$."
   ]
  },
  {
   "cell_type": "markdown",
   "metadata": {
    "slideshow": {
     "slide_type": "subslide"
    }
   },
   "source": [
    "- If $W$ is normally distributed,\n",
    "\n",
    "    $$\n",
    "    \\E\\left[U(W)\\right]=\\E\\left[-e^{-\\alpha\\,W}\\right]=-\\exp\\left\\{-\\alpha\\,\\left(\\E[W]-\\alpha/2\\,\\Var[W]\\right)\\right\\}\n",
    "    $$\n",
    "    \n",
    "    so maximizing CARA utility is equivalent to maximizing\n",
    "    \n",
    "    $$\n",
    "    \\cL(W)=\\E[W]-\\frac\\alpha2\\,\\Var[W]\n",
    "    $$\n",
    "    which is just mean-variance optimization.\n",
    "\n",
    "\n",
    "- $\\E[W]-\\frac\\alpha2\\,\\Var[W]$ is called the *certainty equivalent* of $W$."
   ]
  },
  {
   "cell_type": "markdown",
   "metadata": {
    "slideshow": {
     "slide_type": "slide"
    }
   },
   "source": [
    "### Stoll (1978)\n",
    "\n",
    "- The dealer has exponential utility:\n",
    "\n",
    "    $$\n",
    "    U(W)=-e^{-\\alpha\\,W}.\n",
    "    $$\n",
    "\n",
    "\n",
    "- Inventory is constrained to lie between given lower and upper bounds.\n",
    "\n",
    "\n",
    "- The security has the random payoff $S \\sim N(\\mu, \\sigma^2)$.\n"
   ]
  },
  {
   "cell_type": "markdown",
   "metadata": {
    "slideshow": {
     "slide_type": "slide"
    }
   },
   "source": [
    "### Stoll (1978) optimal bid-ask computation\n",
    "\n",
    "- Suppose the dealer's current inventory is $q$.\n",
    "\n",
    "\n",
    "- He posts a bid at $B$.\n",
    "    - If his bid is not hit, his terminal wealth will be $W=q\\,S$.\n",
    "    - If his bid is hit, his terminal wealth will be $W=(q+1)S-B$."
   ]
  },
  {
   "cell_type": "markdown",
   "metadata": {
    "slideshow": {
     "slide_type": "subslide"
    }
   },
   "source": [
    "- For the dealer to be indifferent, we must have\n",
    "    \n",
    "    $$\n",
    "    \\E[U\\left((q+1)S-B\\right)]=\\E[U(q\\,S)]\n",
    "    $$\n",
    "    \n",
    "    so\n",
    "    \n",
    "    <a name=\"eq:indifference\"></a>(1)\n",
    "    $$ \n",
    "    (q+1)\\E[S]-B-\\frac{\\alpha}{2}\\,\\Var[(q+1)\\,S]\\\\=q\\,\\E[S]-\\frac{\\alpha}{2}\\,\\Var[q\\,S]\n",
    "    $$\n",
    "    \n",
    "    Then\n",
    "    \n",
    "    <a name=\"eq:StollBid\"></a>(2)\n",
    "    $$ \n",
    "    B=\\mu-\\frac{\\alpha}{2}\\,\\left[(q+1)^2-q^2\\right]\\,\\sigma^2=\\mu-\\frac{\\alpha}{2}\\,(2\\,q+1)\\,\\sigma^2.\n",
    "    $$"
   ]
  },
  {
   "cell_type": "markdown",
   "metadata": {
    "slideshow": {
     "slide_type": "slide"
    }
   },
   "source": [
    "### Stoll (1978) optimal inventory\n",
    "\n",
    "- This indifference price argument works only if the dealer starts with optimal inventory.\n",
    "    - What is his optimal inventory? \n",
    "\n",
    "\n",
    "- Suppose that the current market price of the stock is $P$. \n",
    "\n",
    "\n",
    "- Terminal wealth is then $q\\,(S-P)$."
   ]
  },
  {
   "cell_type": "markdown",
   "metadata": {
    "slideshow": {
     "slide_type": "subslide"
    }
   },
   "source": [
    "- Maximizing expected terminal utility over $q$ then gives optimal inventory:\n",
    "    $$\n",
    "    \\frac{d}{dq}\\,\\left\\{q\\,(\\mu-P)-\\frac{\\alpha}{2}\\,q^2\\,\\sigma^2\\right\\}=0\n",
    "    $$\n",
    "    when\n",
    "    $$\n",
    "    q=\\frac{\\mu-P}{\\alpha\\,\\sigma^2}=:q^\\star\n",
    "    $$\n",
    "\n",
    "\n",
    "- Substituting back into [(2)](#eq:StollBid) gives\n",
    "\n",
    "    <a name=\"eq:StollBidOptimal\"></a>(3) \n",
    "    $$ \n",
    "    B=P-\\alpha\\,\\frac{\\sigma^2}{2}.\n",
    "    $$\n",
    " "
   ]
  },
  {
   "cell_type": "markdown",
   "metadata": {
    "slideshow": {
     "slide_type": "subslide"
    }
   },
   "source": [
    "   \n",
    "\n",
    "- Similarly, the ask price is given by \n",
    "\n",
    "    $$\n",
    "    A = P + \\alpha\\,\\frac{\\sigma^2}{2}.\n",
    "    $$\n",
    "\n",
    "\n",
    "#### Note\n",
    "\n",
    "* Bid and ask are symmetric around the current price $P$ and is independent of $\\mu$.\n",
    "\n",
    "* Spread is equal to $\\alpha \\sigma^2$. The more risk averse the market maker is or the more volatile the security is, the wider the spread.\n",
    "\n",
    "* <font color=blue> Spread is quadratic in volatility. </font>"
   ]
  },
  {
   "cell_type": "markdown",
   "metadata": {
    "slideshow": {
     "slide_type": "slide"
    }
   },
   "source": [
    "### Extension to $n$ assets\n",
    "\n",
    "- In the $n$ asset case, we can make the same indifference price argument to derive the optimal bids and offers.\n",
    "    - Assume the joint distribution of the payoffs of the $n$ assets is multivariate normal."
   ]
  },
  {
   "cell_type": "markdown",
   "metadata": {
    "slideshow": {
     "slide_type": "subslide"
    }
   },
   "source": [
    "- The analog of equation [(1)](#eq:indifference) for finding the optimal bid $B_j$ for asset $j$ is\n",
    "\n",
    "<a name=\"eq:indifferenceN\"></a>(4) \n",
    "$$\n",
    "\\begin{eqnarray*}\n",
    "    &&\\sum_i^n\\,q_i\\,\\mu_i+\\mu_j-B_j-\\frac{\\alpha}{2}\\,\\Var\\left[\\sum_i^n\\,q_i\\,S_i+S_j\\right]\\\\\n",
    "    &=& \\sum_i^n\\,q_i\\,\\mu_i-\\frac{\\alpha}{2}\\,\\Var\\left[\\sum_i^n\\,q_i\\,S_i\\right]\n",
    "    \\end{eqnarray*}\n",
    "$$"
   ]
  },
  {
   "cell_type": "markdown",
   "metadata": {
    "slideshow": {
     "slide_type": "subslide"
    }
   },
   "source": [
    "This gives\n",
    "\n",
    "<a name=\"eq:null\"></a>(5) \n",
    "$$\n",
    "\\begin{eqnarray}\n",
    "B_j&=&\\mu_j-\\alpha\\,\\sum_i^n\\,q_i\\,\\Cov\\left[S_i,S_j\\right]-\\frac{\\alpha}{2}\\,\\Var[S_j]\\nonumber\\\\\n",
    "&=&\\mu_j-\\alpha\\,\\sum_i^n\\,q_i\\,\\rho_{ij}\\,\\sigma_i\\,\\sigma_j\n",
    "-\\frac{\\alpha}{2}\\,\\sigma_j^2.\n",
    "\\end{eqnarray}\n",
    "$$\n",
    "\n",
    "Extending further to a quote in size $n_j$, we see that\n",
    "\n",
    "<a name=\"eq:StollBidOptimalN\"></a>(6) \n",
    "$$\n",
    "B_j=\\mu_j-\\alpha\\,\\sum_i^n\\,q_i\\,\\rho_{ij}\\,\\sigma_i\\,\\sigma_j\n",
    "-\\frac{\\alpha}{2}\\,n_j\\,\\sigma_j^2\n",
    "$$"
   ]
  },
  {
   "cell_type": "markdown",
   "metadata": {
    "slideshow": {
     "slide_type": "subslide"
    }
   },
   "source": [
    "A completely analogous argument gives the fair ask price\n",
    "\n",
    "$$\n",
    "A_j=\\mu_j - \\alpha\\,\\sum_i^n\\,q_i\\,\\rho_{ij}\\,\\sigma_i\\,\\sigma_j + \\frac{\\alpha}{2}\\,n_j\\,\\sigma_j^2\n",
    "$$"
   ]
  },
  {
   "cell_type": "markdown",
   "metadata": {
    "slideshow": {
     "slide_type": "slide"
    }
   },
   "source": [
    "### Observations\n",
    "\n",
    "From equation [(6)](#eq:StollBidOptimalN), we note that\n",
    "\n",
    "- The optimal bid for the $j$th asset depends in general on existing positions in all other assets.\n",
    "\n",
    "\n",
    "- Assuming the correlations $\\rho_{ij}$ are positive, the greater the initial inventory, the lower the bid is biased.\n",
    "    - The lower the correlation with existing inventory, the less the quote bias."
   ]
  },
  {
   "cell_type": "markdown",
   "metadata": {
    "slideshow": {
     "slide_type": "subslide"
    }
   },
   "source": [
    "- The spread\n",
    "    $$\n",
    "    s_j=A_j-B_j=\\alpha\\,n_j\\,\\sigma_j^2\n",
    "    $$\n",
    "    is\n",
    "    \n",
    "    - Increasing in the risk aversion coefficient (price of risk) $\\alpha$.\n",
    "    - Increasing in the asset volatility $\\sigma_j$.\n",
    "    - Increasing in the quote size $n_j$.\n",
    "\n",
    "\n",
    "- The spread does not depend on inventory."
   ]
  },
  {
   "cell_type": "markdown",
   "metadata": {
    "slideshow": {
     "slide_type": "slide"
    }
   },
   "source": [
    "### Choice of risk measure\n",
    "\n",
    "- Mean-variance optimization is equivalent to adopting variance as a measure of risk.\n",
    "    - The units ($\\$^2$) are wrong: We don't think that double the position would quadraple the risk!\n",
    "\n",
    "\n",
    "- Suppose we take value-at-risk (VaR) as our risk measure instead.\n",
    "    - This choice of risk measure is more consistent with allocated cost of capital in reality."
   ]
  },
  {
   "cell_type": "markdown",
   "metadata": {
    "slideshow": {
     "slide_type": "subslide"
    }
   },
   "source": [
    "- The analog of [(4)](#eq:indifferenceN) for a quote of size $m$ is\n",
    "    $$\n",
    "    \\begin{eqnarray*}\n",
    "    &&\\sum_i^n\\,q_i\\,\\mu_i+m\\,(\\mu_j-B_j)-\\nu\\,\\sqrt{\\Var\\left[\\sum_i^n\\,q_i\\,S_i+m\\,S_j\\right]}\\nonumber\\\\\n",
    "    &=&\\sum_i^n\\,q_i\\,\\mu_i-\\nu\\,\\sqrt{\\Var\\left[\\sum_i^n\\,q_i\\,S_i\\right]}.\n",
    "    \\end{eqnarray*}\n",
    "    $$"
   ]
  },
  {
   "cell_type": "markdown",
   "metadata": {
    "slideshow": {
     "slide_type": "subslide"
    }
   },
   "source": [
    "Rearranging gives\n",
    "\n",
    "<a name=\"eq:VaRbid\"></a>(7) \n",
    "$$\n",
    "\\begin{eqnarray*}\n",
    "&&B_j=\\mu_j\\\\&&-\\frac{\\nu}{m}\\,\\left\\{\\sqrt{\\Var\\left[\\sum_i^n\\,q_i\\,S_i+m\\,S_j\\right]}\n",
    "-\\sqrt{\\Var\\left[\\sum_i^n\\,q_i\\,S_i\\right]}\\right\\}\n",
    "\\end{eqnarray*}\n",
    "$$"
   ]
  },
  {
   "cell_type": "markdown",
   "metadata": {
    "slideshow": {
     "slide_type": "subslide"
    }
   },
   "source": [
    "To get intuition for this expression, consider the one-stock case where there is existing inventory $q$.  The optimal bid is then\n",
    "\n",
    "$$\n",
    "\\begin{eqnarray*}\n",
    "B&=&\\mu - \\frac \\nu m\\,\\sigma\\left\\{ |q+m| - |q|\\right\\}\\\\&=&\\mu - \\frac \\nu m\\,\\sigma\\,\\left\\{\\begin{array}{ll}\n",
    "m & \\text{ if } q \\geq 0\\\\\n",
    "2\\,q + m & \\text{ if } -m \\leq q <  0\\\\\n",
    "- m & \\text{ if } q  < -m .\n",
    "\\end{array}\n",
    "\\right.\n",
    "\\end{eqnarray*}\n",
    "$$"
   ]
  },
  {
   "cell_type": "markdown",
   "metadata": {
    "slideshow": {
     "slide_type": "subslide"
    }
   },
   "source": [
    "- If the potential trade is not risk reducing, the quoted spread is linear in the volatility $\\sigma$ and (approximately) independent of the quoted size $m$.\n",
    "    - <font color=blue> Spread is linear in volatility both in previous models and empirically. </font>\n",
    "    - Intuitively, quoted spread should somewhat depend on quoted size in dealer markets (but it may be independent of size over a large range of sizes).\n",
    "    - Note also that $\\nu$ is dimensionless."
   ]
  },
  {
   "cell_type": "markdown",
   "metadata": {
    "slideshow": {
     "slide_type": "slide"
    }
   },
   "source": [
    "### Monetary risk measures\n",
    "\n",
    "Let $\\mathcal{X}$ denote the set of all financial positions.\n",
    "<br>\n",
    "\n",
    "\n",
    "The following definition is from [Fölmer and Schied]<sup id=\"cite_ref-FS\" class=\"reference\"><a href=\"#cite_note-FS\">[3]</a></sup>:\n",
    "\n",
    "#### Definition (4.1)\n",
    "\n",
    "A mapping $\\rho: \\mathcal{X} \\to \\mathbb{R}$ is called a *monetary risk measure* if it satisfies the following conditions for all $X,Y \\in \\mathcal{X}$:\n",
    "\n",
    "- *Monotonicity*: If $X \\leq Y$, then $\\rho(X) \\geq \\rho(Y)$.\n",
    "- *Cash invariance*: If $m \\in \\mathbb{R}$, then $\\rho(X+m) = \\rho(X) - m$."
   ]
  },
  {
   "cell_type": "markdown",
   "metadata": {
    "slideshow": {
     "slide_type": "subslide"
    }
   },
   "source": [
    "#### Note\n",
    "\n",
    "- Without loss of generality, we could have $\\rho(0)=0$.\n",
    "- Obviously, variance does not qualify as a monetary risk measure."
   ]
  },
  {
   "cell_type": "markdown",
   "metadata": {
    "slideshow": {
     "slide_type": "slide"
    }
   },
   "source": [
    "### Ho and Stoll (1981)\n",
    "\n",
    "- Ho and Stoll extend Stoll (1978) to a multiperiod framework.\n",
    "    - Both order flow and stock price are stochastic.\n",
    "\n",
    "\n",
    "- The log-stock price $x_t$ is modeled as Brownian motion with drift.\n",
    "\n",
    "\n",
    "- Market order arrivals are Poisson with rates $\\lambda_B$ and $\\lambda_A$.  These rates depend linearly on the bid and ask prices $B$ and $A$ set by the dealer."
   ]
  },
  {
   "cell_type": "markdown",
   "metadata": {
    "slideshow": {
     "slide_type": "subslide"
    }
   },
   "source": [
    "- Inventory has a stochastic evolution in addition to its natural evolution resulting from the arrival of market orders.\n",
    "\n",
    "\n",
    "- The dealer's utility function is quadratic.\n",
    "\n",
    "\n",
    "- The solution to this problem involves stochastic optimal control techniques and in fact, this specific problem seems to be too hard to solve in closed-form."
   ]
  },
  {
   "cell_type": "markdown",
   "metadata": {
    "slideshow": {
     "slide_type": "slide"
    }
   },
   "source": [
    "### Review: Feynman-Kac formula\n",
    "\n",
    "The solution of the PDE \n",
    "\n",
    "$$\n",
    "u_t + \\frac12 \\,{\\sigma^2(x,t)} u_{xx} + \\mu(x,t) u_x + h(x,t) = 0\n",
    "$$\n",
    "\n",
    "with terminal condition $\n",
    "u(x,T) = g(x)\n",
    "$\n",
    "has the stochastic representation \n",
    "\n",
    "\\begin{eqnarray*}\n",
    "u(x,t) = \\Eof{\\left. g(X_T) + \\int_t^T h(X_s,s) ds \\right| X_t = x},\n",
    "\\end{eqnarray*}\n",
    "\n",
    "where $X_t$ is the diffusion process satisfying the SDE\n",
    "\n",
    "$$\n",
    "dX_t = \\mu(X_t,t) dt + \\sigma(X_t,t) dW_t.\n",
    "$$\n",
    "\n",
    "$W_t$ is a Brownian motion. "
   ]
  },
  {
   "cell_type": "markdown",
   "metadata": {
    "slideshow": {
     "slide_type": "slide"
    }
   },
   "source": [
    "### Feynman-Kac formula: Quick derivation\n",
    "\n",
    "Given the PDE\n",
    "$$\n",
    "u_t + \\frac 12 \\,{\\sigma^2(x,t)}\\, u_{xx} + \\mu(x,t) u_x + h(x,t) = 0,\n",
    "$$\n",
    "\n",
    "we have"
   ]
  },
  {
   "cell_type": "markdown",
   "metadata": {
    "slideshow": {
     "slide_type": "subslide"
    }
   },
   "source": [
    "$$\n",
    "\\beas\n",
    "&&\\eef{u(x_T,T) - u(x,t)} \\\\&=& \\eef{g(X_T)} - u(x,t)\\\\\n",
    "&=& \\eef{\\int_t^T\\,du(X_s,s)}\\\\\n",
    "&=& \\eef{\\int_t^T\\,\\p_s u\\,ds + \\p_x u\\,dX_s + \\p_{x,x}u\\,dX_s^2} \\quad \\text{ (Itô's Lemma) }\\\\\n",
    "&=& \\eef{\\int_t^T\\,\\left[\\p_s u + \\mu_s\\,\\p_x u + \\frac12\\,\\sigma_s^2\\,\\p_{x,x}u\\right]\\,ds} \\\\\n",
    "&=& -\\eef{\\int_t^T\\,h(X_s,s)\\,ds} \\quad \\text{(by assumption)}.\n",
    "\\eeas\n",
    "$$"
   ]
  },
  {
   "cell_type": "markdown",
   "metadata": {
    "slideshow": {
     "slide_type": "slide"
    }
   },
   "source": [
    "### Stochastic control problem\n",
    "\n",
    "A stochastic control problem is a control problem which aims to maximize certain expected rewards among all admissible controls. <br>\n",
    "Specifically, consider\n",
    "\n",
    "$$\n",
    "  \\max_{v\\in\\cG[0,T]} \\E\\left[g(\\Xv_T) + \\int_0^T h(s,\\Xv_s,v_s) ds \\right]\n",
    "$$\n",
    "\n",
    "where"
   ]
  },
  {
   "cell_type": "markdown",
   "metadata": {
    "slideshow": {
     "slide_type": "subslide"
    }
   },
   "source": [
    "* $g$ is referred to as the *terminal reward* and $h$ is the *running reward*\n",
    "\n",
    "\n",
    "* the state variable $\\Xv_t$ is driven by the controlled SDE\n",
    "    $$\n",
    "      d\\Xv_t = \\mu( t,\\Xv_t, v_t) dt + \\sigma(t,\\Xv_t, v_t) dW_t.\n",
    "    $$\n",
    "    \n",
    "* $\\cG[0,T]$ is the collection of admissible controls in the time interval $[0,T]$ "
   ]
  },
  {
   "cell_type": "markdown",
   "metadata": {
    "slideshow": {
     "slide_type": "slide"
    }
   },
   "source": [
    "### Bellman's principle of optimality\n",
    "(also known as the *Dynamic Programming Principle* (DPP))\n",
    "\n",
    "\"An optimal policy has the property that whatever the initial state and initial decision are, the remaining decisions must constitute an optimal policy with regard to the state resulting from the first decision.\"\n",
    "\n",
    "<br> (See Bellman, 1957, Chap. III.3.)"
   ]
  },
  {
   "cell_type": "markdown",
   "metadata": {
    "slideshow": {
     "slide_type": "slide"
    }
   },
   "source": [
    "### Value function \n",
    "\n",
    "* For a given admissible control $v\\in\\cG[t,T]$, define the *performance criterion* $J^{(v)}$ as\n",
    "    \n",
    "    $$\n",
    "      J^{(v)}(t,x) = \\E\\left[\\left. g(\\Xv_T) + \\int_0^T h(s,\\Xv_s,v_s) ds \\right| \\cF_t \\right].\n",
    "    $$\n",
    "\n",
    "\n",
    "* The value function $J(t,x)$ for a stochastic control problem maximizes the performance criterion:\n",
    "    \n",
    "    $$\n",
    "      J(t,x) = \\max_{v\\in\\cG[t,T]} J^{(v)}(t,x),\n",
    "    $$"
   ]
  },
  {
   "cell_type": "markdown",
   "metadata": {
    "slideshow": {
     "slide_type": "subslide"
    }
   },
   "source": [
    "* The value function $J$ at $(t,x)$ is the optimal value of the control problem conditioned on the process starting at $(t,x)$ and applying the optimal control thereafter.\n",
    "\n",
    "\n",
    "* This maximization problem is typically solved by solving the Hamilton-Jacobi-Bellman (HJB) equation."
   ]
  },
  {
   "cell_type": "markdown",
   "metadata": {
    "slideshow": {
     "slide_type": "slide"
    }
   },
   "source": [
    "### Bellman's principle again\n",
    "\n",
    "Bellman's principle may be recast in terms of the value function as follows.  For any $0 < \\epsilon < T -t$,\n",
    "\n",
    "$$\n",
    "J(t,x) = \\max_{v\\in\\cG[t,t+\\epsilon]} \\E\\left[\\left. \\int_t^{t+\\epsilon} h(s,\\Xv_s,v_s) ds + J(t+\\epsilon,\\Xv_{t+\\epsilon}) \\right| \\cF_t \\right].\n",
    "$$\n",
    "\n"
   ]
  },
  {
   "cell_type": "markdown",
   "metadata": {
    "slideshow": {
     "slide_type": "slide"
    }
   },
   "source": [
    "### The Hamilton-Jacobi-Bellman (HJB) equation\n",
    "\n",
    "The value function $J$ satisfies the terminal value problem\n",
    "\n",
    "$$\n",
    "\\p_t J(t,x) + \\max_{v\\in\\cG[t]} \\{\\cL^{(v)} J(t,x) + h(t,x,v) \\} = 0, \\mbox{ for } t < T\n",
    "$$\n",
    "\n",
    "with terminal condition\n",
    "\n",
    "$$\n",
    "  J(T,x) = g(x).\n",
    "$$"
   ]
  },
  {
   "cell_type": "markdown",
   "metadata": {
    "slideshow": {
     "slide_type": "subslide"
    }
   },
   "source": [
    "The quantity\n",
    "\n",
    "\n",
    "$$\n",
    "\\mathcal{H}(t,x,\\p_x J, \\p_{xx} J) = \\max_{v\\in\\cG[t]} \\{\\cL^{(v)} J(t,x) + h(t,x,v) \\}\n",
    "$$\n",
    "\n",
    "is known as the *Hamiltonian* of the stochastic control problem."
   ]
  },
  {
   "cell_type": "markdown",
   "metadata": {
    "slideshow": {
     "slide_type": "subslide"
    }
   },
   "source": [
    "#### Note\n",
    "\n",
    "* The HJB equation is basically an infinitesimal version of Bellman's principle. \n",
    "\n",
    "* The optimal policy (control) is given implicitly in terms of the value function $J$.\n",
    "\n",
    "* The whole argument is applicable to processes with jumps as well. "
   ]
  },
  {
   "cell_type": "markdown",
   "metadata": {
    "slideshow": {
     "slide_type": "slide"
    }
   },
   "source": [
    "### Ho and Stoll setup\n",
    "\n",
    "- The dealer quotes prices\n",
    "    $$\n",
    "    p_b = p-b; \\quad p_a = p+a\n",
    "    $$\n",
    "\n",
    "\n",
    "- Cash:\n",
    "    $$\n",
    "    dF = r\\,F \\,dt - (p-b)\\,dq_b+(p+a)\\,dq_a\n",
    "    $$\n",
    "\n",
    "\n",
    "- Stock:\n",
    "    $$\n",
    "    dX = r_X\\,X\\,dt +\\sigma_X\\,X\\,dZ_X\n",
    "    $$"
   ]
  },
  {
   "cell_type": "markdown",
   "metadata": {
    "slideshow": {
     "slide_type": "subslide"
    }
   },
   "source": [
    "- Inventory:\n",
    "    $$\n",
    "    dI = r_I\\,I\\,dt + p\\,dq_b - p \\,dq_a +I\\,\\,\\sigma_I\\,dZ_I\n",
    "    $$\n",
    "    where $dq_a$ and $dq_b$ represent Poisson distributed jumps with intensities $\\lambda_a$, $\\lambda_b$.\n",
    "\n",
    "\n",
    "- Base wealth:\n",
    "    $$\n",
    "    dY = r_Y\\,Y\\,dt+Y\\,\\sigma_Y\\,dZ_Y\n",
    "    $$"
   ]
  },
  {
   "cell_type": "markdown",
   "metadata": {
    "slideshow": {
     "slide_type": "slide"
    }
   },
   "source": [
    "### Ho and Stoll objective and value function \n",
    "\n",
    "* The dealer's objective is to maximize the expected terminal utility of wealth, i.e., \n",
    "\n",
    "    $$\n",
    "    \\max_{a,b \\in \\cG} \\E\\left[U(F_T + I_T + Y_T)\\right]\n",
    "    $$ \n",
    "\n",
    "\n",
    "* Since there is no intermediate running reward $h(\\cdot)$, the value function $J(t,f,i,y)$ reduces to\n",
    "\n",
    "    $$\n",
    "    J(t,f,i,y) = \\max_{a,b \\in \\mathcal{G}[t,T]} \\Eof{\\left.U(F_T,I_T,Y_T)\\right|F_t=f,Y_t = y,I_t = i}.\n",
    "    $$\n"
   ]
  },
  {
   "cell_type": "markdown",
   "metadata": {
    "slideshow": {
     "slide_type": "slide"
    }
   },
   "source": [
    "### HJB equation for Ho and Stoll value function\n",
    "\n",
    "Ignoring interest rates and returns (which are effectively irrelevant for small times), we get\n",
    "\n",
    "\\begin{eqnarray*}\n",
    "&&\\frac{\\partial J}{\\partial t}+\\mathcal{L}_t \\,J + \\max_{a,b \\in\\mathcal{G}}\\,\\left\\{\\lambda_a\\,\\left[J(t,F+p\\,Q +a\\,Q, I-p\\,Q,Y)-J(t,F,I,Y)\\right]\\right.\\\\\n",
    "&&\\quad\\quad\\quad+\n",
    "\\left.\n",
    "\\lambda_b\\,\\left[J(t,F-p\\,Q +b\\,Q, I+p\\,Q,Y)-J(t,F,I,Y)\\right]\\right\\}=0\n",
    "\\end{eqnarray*}\n",
    "\n",
    "where $\\mathcal{L}_t$ is the infinitesimal generator of the It&ocirc; diffusion:\n",
    "\n",
    "$$\n",
    "\\mathcal{L}_t = \\frac{1}{2}\\,\\sigma_Y^2\\,Y^2\\,\\partial_{Y,Y}+ \\frac{1}{2}\\,\\sigma_I^2\\,I^2\\,\\partial_{I,I}+ \\sigma_Y\\,\\sigma_I\\,Y\\,I\\,\\partial_{Y,I}\n",
    "$$\n",
    "\n",
    "- Not surprisingly, this equation is near impossible to solve, even approximately.\n",
    "\n"
   ]
  },
  {
   "cell_type": "markdown",
   "metadata": {
    "slideshow": {
     "slide_type": "slide"
    }
   },
   "source": [
    "### Conclusions of Ho and Stoll (1981)\n",
    "\n",
    "- The spread depends on the time horizon of the dealer.\n",
    "    - The shorter the time remaining, the lower the risk - this is somewhat artificial!\n",
    "\n",
    "\n",
    "- The risk adjustment is increasing in both the risk aversion $\\alpha$ and the variance $\\sigma^2$.\n",
    "\n",
    "\n",
    "- The spread is independent of inventory level.\n",
    "    - The dealer moves his mid-price depending on inventory so as to influence the arrival rates of MB and MS orders."
   ]
  },
  {
   "cell_type": "markdown",
   "metadata": {
    "slideshow": {
     "slide_type": "subslide"
    }
   },
   "source": [
    "- All of this is consistent with the Stoll (1978) conclusions.\n",
    "\n",
    "\n",
    "- Also, MB orders cause the mid-price to increase, MS orders cause the mid-price to decrease; there is market impact."
   ]
  },
  {
   "cell_type": "markdown",
   "metadata": {
    "slideshow": {
     "slide_type": "slide"
    }
   },
   "source": [
    "### Avellaneda and Stoikov (2008)\n",
    "#### Model setup\n",
    "\n",
    "- As in Stoll (1978), the agent's utility is exponential.\n",
    "\n",
    "- Stock price $S_t$ follows arithmetic Brownian motion:\n",
    "\n",
    "$$\n",
    "    dS_t=\\sigma\\,dW_t\n",
    "$$\n",
    "\n",
    "- $N_t^A$: cumulative market buy orders up to time $t$\n",
    "\n",
    "- $N_t^B$: cumulative market sell orders up to time $t$\n",
    "\n",
    "- The MB arrival rate $\\lambda_A = \\lambda_A(\\delta^A)$ is decreasing in $\\delta^A := A - S$, the distance to midprice.\n",
    "\n",
    "- The MS arrival rate $\\lambda_B = \\lambda_B(\\delta^B)$ is decreasing in $\\delta^B := S - B$, the distance to midprice.\n",
    "\n",
    "- Wealth in cash jumps every time there is a market order:\n",
    "\n",
    "    $$\n",
    "    dx_t = A\\,dN^A_t - B\\,dN^B_t = (S_t + \\delta^A) dN^A_t - (S_t - \\delta^B) dN^B_t \n",
    "    $$\n",
    "\n",
    "- The evolution of stock inventory is given by:\n",
    "    \n",
    "    $$\n",
    "    dq_t = dN^B_t - dN^A_t\n",
    "    $$\n",
    "    \n",
    "#### Note\n",
    "- Inventory thus depends only on arrivals of market orders and does not have any additional random component.  This considerably simplifies the analysis relative to Ho and Stoll."
   ]
  },
  {
   "cell_type": "markdown",
   "metadata": {
    "slideshow": {
     "slide_type": "slide"
    }
   },
   "source": [
    "### Objective and value function \n",
    "\n",
    "- The objective of the dealer is to maximize the expected exponential utility \n",
    "\n",
    "    $$\n",
    "    \\max_{\\delta^B,\\delta^A}\\E\\left[-e^{-\\alpha\\,(x_T+q_T\\,S_T)}\\right]\n",
    "    $$\n",
    "    \n",
    "    over certain admissible controls. \n",
    "    \n",
    "- The optimal controls $\\delta^B$ and $\\delta^A$ are in general time and state dependent. In fact, it is determined in terms of the value function. "
   ]
  },
  {
   "cell_type": "markdown",
   "metadata": {
    "slideshow": {
     "slide_type": "subslide"
    }
   },
   "source": [
    "* The value function of the stochastic control problem is therefore defined by\n",
    "\n",
    "    $$\n",
    "    J(t,x,S,q) = \\max_{(\\delta^B,\\delta^A) \\in \\cG[t,T]} \\E\\left[\\left. -e^{-\\alpha\\,(x_T+q_T\\,S_T)} \\right|x_t = x, S_t = S, q_t = q \\right]\n",
    "    $$\n",
    "    \n",
    "    where $\\cG[t,T]$ denotes the admissible controls in the time interval $[t,T]$."
   ]
  },
  {
   "cell_type": "markdown",
   "metadata": {
    "slideshow": {
     "slide_type": "slide"
    }
   },
   "source": [
    "### It&ocirc;'s formula for processes with jumps\n",
    "\n",
    "Let $X_t$ and $Y_t$ be processes with jump. Denote by $X^c_t$ and $Y^c_t$ the continuous part of $X$ and $Y$ respectively. \n",
    "\n",
    "If $J$ is a smooth function, then for $t < s$, we have the following It&ocirc;'s formula \n",
    "\n",
    "\\begin{eqnarray*}\n",
    "&& J(s,x_s,S_s,q_s) - J(t,x_t,S_t,q_t) \\\\\n",
    "&=& \\int_t^s J_t d\\tau + \\int_t^s J_x dx_\\tau^c + \\int_t^s J_S dS_\\tau^c + \\int_t^s J_q dq_\\tau^c \\\\\n",
    "&& + \\frac12 \\int_t^s J_{xx} d[x^c]_\\tau + \\frac12 \\int_t^s J_{SS} d[S^c]_\\tau + \\frac12 \\int_t^s J_{qq} d[q^c]_\\tau + \\mbox{covariation terms} \\\\\n",
    "&& + \\sum_{t < \\tau \\leq s} J(\\tau,x_\\tau,S_\\tau,q_\\tau) - J(\\tau, x_{\\tau-},S_{\\tau-},q_{\\tau-})\n",
    "\\end{eqnarray*}"
   ]
  },
  {
   "cell_type": "markdown",
   "metadata": {
    "slideshow": {
     "slide_type": "slide"
    }
   },
   "source": [
    "### The HJB equation \n",
    "\n",
    "The value function $J(\\cdot)$ satisfies the HJB equation\n",
    "\n",
    "<a name=\"eq:HJBAS\"></a>(9) \n",
    "$$\n",
    "\\begin{eqnarray*}\n",
    "&&\\p_t J+\\frac{\\sigma^2}{2}\\,\\p_S^2 J \\\\\n",
    "&& + \\max_{\\delta^B}\\,\\lambda_B(\\delta^B)\\,\\left[J(t,x - S + \\delta^B, S, q+1)-J(t,x,S,q)\\right] \\\\\n",
    "&& + \\max_{\\delta^A}\\,\\lambda_A(\\delta^A)\\,\\left[J(t,x + S + \\delta^A, S, q-1)-J(t,x,S,q)\\right] \\\\\n",
    "&& = 0\n",
    "\\end{eqnarray*}\n",
    "$$\n",
    "\n",
    "with terminal condition\n",
    "\n",
    "$$\n",
    "J(T,x,S,q) = -e^{-\\alpha(x + q S)}.\n",
    "$$"
   ]
  },
  {
   "cell_type": "markdown",
   "metadata": {
    "slideshow": {
     "slide_type": "subslide"
    }
   },
   "source": [
    "Because utility is exponential, we can simplify [(9)](#eq:HJBAS) with the ansatz\n",
    "\n",
    "$$\n",
    "J(t,x,S,q) = -e^{-\\alpha\\,x}\\,e^{-\\alpha\\,\\theta(t,S,q)}\n",
    "$$\n",
    "\n",
    "- In other words, the initial wealth does not really play a role in the solution to the utility maximization problem. This turns out to be one of the features that distinguishes exponential utility from the others in this setting. \n",
    "- Note that $B = S - \\delta_B$ and $A = S + \\delta_A$.\n",
    "\n",
    "Note that with the ansatz we have\n",
    "\n",
    "\\begin{eqnarray*}\n",
    "&& \\p_t J = -\\alpha \\, \\theta_t \\, J, \\\\\n",
    "&& \\p^2_S J = \\left\\{ - \\alpha \\theta_{SS} + \\alpha^2 \\theta_S^2 \\right\\} \\, J, \\\\\n",
    "&& J(t, x + S + \\delta^A, S, q - 1) = J(t, x, S, q) e^{-\\alpha\\left\\{S + \\delta^A + \\theta(t, s, q-1) - \\theta(t, s, q)\\right\\}}, \\\\\n",
    "&& J(t, x + S - \\delta^B, S, q + 1) = J(t, x, S, q) e^{-\\alpha\\left\\{-S + \\delta^B + \\theta(t, s, q+1) - \\theta(t, s, q)\\right\\}}.\n",
    "\\end{eqnarray*}\n",
    "\n",
    "Substitute the above into [(9)](#eq:HJBAS), the HJB equation [(9)](#eq:HJBAS) reduces to\n",
    "\n",
    "<a name=\"eq:HJBAS-reduced\"></a>(9') \n",
    "\n",
    "\\begin{eqnarray*}\n",
    "&&\\p_t \\theta+\\frac{\\sigma^2}{2}\\,\\p_S^2 \\theta-\\alpha\\,\\frac{\\sigma^2}{2}\\,(\\p_{S}\\theta)^2 \n",
    "\\\\&&+ \\frac 1\\alpha\\,\\min_{\\delta^B}\\,\\lambda_B(\\delta^B)\\,\\left[1-e^{-\\alpha\\,\\left\\{-S + \\delta^B + \\theta(t, S, q+1) - \\theta(t,S,q) \\right\\}}\\right] \n",
    "\\\\&&+ \\frac 1\\alpha\\,\\min_{\\delta^A}\\,\\lambda_A(\\delta^A)\\,\\left[1-e^{-\\alpha\\,\\left\\{S + \\delta^A + \\theta(t, S, q-1) - \\theta(t,S,q) \\right\\}}\\right]\n",
    "= 0\n",
    "\\end{eqnarray*}\n",
    "\n",
    "with terminal condition\n",
    "$\n",
    "\\theta(T,S,q) = qS\n",
    "$."
   ]
  },
  {
   "cell_type": "markdown",
   "metadata": {},
   "source": [
    "The first order condition for the optimal bid $B = S - \\delta^B$ is then\n",
    "\n",
    "$$\n",
    "\\partial_{\\delta^B} \\left\\{\\lambda_B(\\delta^B)\\,\\left[1-e^{-\\alpha\\,\\left\\{-S + \\delta^B + \\theta(t, S, q+1) + \\theta(t,S,q) \\right\\}}\\right]\\right\\} = 0\n",
    "$$\n",
    "\n",
    "which gives the implicit relation\n",
    "\n",
    "$$\n",
    "\\lambda_B'(\\delta^B)\\,\\left[1-e^{-\\alpha\\,\\left\\{-S + \\delta^B + \\theta(t, S, q+1) - \\theta(t,S,q) \\right\\}}\\right] + \\alpha\\,\\lambda_B(\\delta^B)\\,e^{-\\alpha\\,\\left\\{-S + \\delta^B + \\theta(t, S, q+1) - \\theta(t,S,q) \\right\\}}=0\n",
    "$$\n",
    "\n",
    "which may be further simplified to\n",
    "\n",
    "<a name=\"eq:optimalBid\"></a>(11) \n",
    "$$\n",
    "B = S - \\delta^B = \\theta(t, S, q+1) - \\theta(t, S, q) - \\frac{1}{\\alpha} \\, \\log\\left(1 - \\alpha\\, \\frac{\\lambda_B(\\delta^B)}{\\lambda_B'(\\delta^B)}\\right).\n",
    "$$\n",
    "\n",
    "Similarly, the optimal ask price $A$ is given by\n",
    "\n",
    "<a name=\"eq:optimalAsk\"></a>(12) \n",
    "$$\n",
    "A = S + \\delta^A = \\theta(t, S, q) - \\theta(t, S, q-1) + \\frac{1}{\\alpha}\\,\\log\\left(1-\\alpha\\,\\frac{{\\lambda_A}(\\delta^A)}{\\lambda_A'(\\delta_A)}\\right).\n",
    "$$"
   ]
  },
  {
   "cell_type": "markdown",
   "metadata": {},
   "source": [
    "### Reservation prices\n",
    "\n",
    "The quantities $r_B$ and $r_B$ defined in the following are referred to as the *reservation prices*.\n",
    "- $r_B := \\theta(t, S, q+1) - \\theta(t, S, q)$.\n",
    "- $r_A := \\theta(t, S, q) - \\theta(t, S, q-1)$.\n",
    "\n",
    "One can verify that the reservation prices $r_B$ and $r_A$ satisfy the relationships\n",
    "\\begin{eqnarray*}\n",
    "&& J(t, x - r_B, S, q+1) = J(t, x, S, q), \\\\\n",
    "&& J(t, x + r_A, S, q-1) = J(t, x, S, q).\n",
    "\\end{eqnarray*}\n",
    "\n",
    "In other words, the reservation price is the price that the market maker is willing to trade indifferently in utility (value function) at the instant $t$ while the current value of the stock is $S$ and his inventory is $q$."
   ]
  },
  {
   "cell_type": "markdown",
   "metadata": {},
   "source": [
    "### Discussion\n",
    "\n",
    "- Equations [(11)](#eq:optimalBid) and [(12)](#eq:optimalAsk) set optimal bid and ask levels as a function of inventory $q$, stock price $S$, and the arrival rate function $\\lambda(\\cdot)$.\n",
    "\n",
    "\n",
    "- Optimal bid and ask prices are obtained in two steps:\n",
    "    - Solve equations [(11)](#eq:optimalBid) and [(12)](#eq:optimalAsk) for optimal $\\delta^B$ and $\\delta^A$ in terms of $S$ and the function $\\theta$. \n",
    "    - Substitute the optimal $\\delta^B$ and $\\delta^A$ back to the HJB equation [(9')](#eq:HJBAS-reduced) then solve the resulting (nonlinear) PDE for $\\theta$, which at this point does not depend on the $\\delta$'s. "
   ]
  },
  {
   "cell_type": "markdown",
   "metadata": {},
   "source": [
    "### Exponential arrive rates \n",
    "\n",
    "Assuming exponential arrival rates, i.e., \n",
    "\n",
    "\\begin{eqnarray*}\n",
    "&& \\lambda_A(\\delta^A) = K_A e^{-\\mu_A \\delta^A}, \\\\\n",
    "&& \\lambda_B(\\delta^B) = K_B e^{-\\mu_B \\delta^B}.\n",
    "\\end{eqnarray*}\n",
    "\n",
    "#### Note\n",
    "- This is a questionable approximation because arrival rates probably depend on inventory.\n",
    "    - Adverse selection again!\n",
    "- However, making this approximation simplifies the analysis a lot."
   ]
  },
  {
   "cell_type": "markdown",
   "metadata": {},
   "source": [
    "Notice that in this case since \n",
    "\n",
    "$$\n",
    "\\frac{\\lambda_A(\\delta^A)}{\\lambda_A'(\\delta^A)} = -\\frac1{\\mu_A}, \\quad\n",
    "\\frac{\\lambda_B(\\delta^B)}{\\lambda_B'(\\delta^B)} = -\\frac1{\\mu_B}\n",
    "$$\n",
    "\n",
    "the optimal bid $B$ and the optimal ask $A$ are given explicitly in terms of the function $\\theta$ as\n",
    "\n",
    "\\begin{eqnarray*}\n",
    "&& B = S - \\delta^B = \\theta(t, S, q+1) - \\theta(t, S, q) - \\frac{1}{\\alpha} \\, \\log\\left(1 + \\frac\\alpha{\\mu_B} \\right), \\\\\n",
    "&& A = S + \\delta^A = \\theta(t, S, q) - \\theta(t, S, q-1) + \\frac{1}{\\alpha}\\,\\log\\left(1 + \\frac\\alpha{\\mu_A} \\right).\n",
    "\\end{eqnarray*}\n",
    "\n",
    "In particular, the optimal controls $\\delta^B$ and $\\delta^A$ are given by \n",
    "\n",
    "\\begin{eqnarray*}\n",
    "&& \\delta^B = S - \\theta(t, S, q+1) + \\theta(t, S, q) + \\frac{1}{\\alpha} \\, \\log\\left(1 + \\frac\\alpha{\\mu_B} \\right), \\\\\n",
    "&& \\delta^A = -S + \\theta(t, S, q) - \\theta(t, S, q-1) + \\frac{1}{\\alpha}\\,\\log\\left(1 + \\frac\\alpha{\\mu_A} \\right).\n",
    "\\end{eqnarray*}"
   ]
  },
  {
   "cell_type": "markdown",
   "metadata": {},
   "source": [
    "### Further reducing HJB equation under exponential arrival rates \n",
    "\n",
    "By substituting the optimal controls into the HJB equation [(9')](#eq:HJBAS-reduced) we obtain the following nonlinear PDE\n",
    "\n",
    "\\begin{eqnarray*}\n",
    "&&\\p_t \\theta+\\frac{\\sigma^2}{2}\\,\\p_S^2 \\theta-\\alpha\\,\\frac{\\sigma^2}{2}\\,(\\p_{S}\\theta)^2 \\\\\n",
    "&& + \\frac{K_B}{\\mu_B}\\left(1 + \\frac{\\alpha}{\\mu_B}\\right)^{-\\left(1 + \\frac{\\mu_B}{\\alpha}\\right)} \n",
    "e^{-\\mu_B(S - \\theta(t, S, q+1) + \\theta(t, S, q))} \\\\\n",
    "&& + \\frac{K_A}{\\mu_A}\\left(1 + \\frac{\\alpha}{\\mu_A}\\right)^{-\\left(1 + \\frac{\\mu_A}{\\alpha}\\right)} \n",
    "e^{-\\mu_A(-S + \\theta(t, S, q) - \\theta(t, S, q-1))}\n",
    "= 0\n",
    "\\end{eqnarray*}\n"
   ]
  },
  {
   "cell_type": "markdown",
   "metadata": {},
   "source": [
    "### Symmetric exponential arrival rate\n",
    "\n",
    "Further assume that $\\mu := \\mu_A = \\mu_B$ and $K := K_A = K_B$, i.e., the arrivals of MB and MS orders are symmetric. The HJB equation then reduces to \n",
    "\n",
    "\\begin{eqnarray*}\n",
    "&& \\theta_t + \\frac{\\sigma^2}{2} \\, \\theta_{SS} - \\alpha \\frac{\\sigma^2}{2} \\, \\theta_S^2 + \\frac{\\eta}{\\mu} \\left\\{\n",
    "e^{-\\mu(S - \\theta(t, S, q+1) + \\theta(t, S, q))} + e^{-\\mu(-S + \\theta(t, S, q) - \\theta(t, S, q-1))} \\right\\} = 0,\n",
    "\\end{eqnarray*}\n",
    "\n",
    "where we denoted by $\\eta = K \\left(1 + \\frac{\\alpha}{\\mu}\\right)^{-\\left(1 + \\frac{\\mu}{\\alpha}\\right)}$ for simplicity. "
   ]
  },
  {
   "cell_type": "markdown",
   "metadata": {},
   "source": [
    "Now use the ansatz $\\theta = qS + \\frac1\\mu \\log v(t, q)$. Since\n",
    "\n",
    "\\begin{eqnarray*}\n",
    "&& \\theta_t = \\frac1\\mu\\frac{\\dot v}v, \\quad \\theta_S = q, \\quad \\theta_{SS} = 0, \n",
    "\\end{eqnarray*}\n",
    "\n",
    "we end up  \n",
    "\n",
    "\\begin{eqnarray*}\n",
    "&&\\frac1\\mu \\frac{\\dot v}{v} - \\alpha\\,\\frac{\\sigma^2}{2}\\,q^2 \n",
    "+ \\frac{\\eta}{\\mu} \\left\\{\n",
    "\\frac{v(t, q+1)}{v(t, q)} + \\frac{v(t, q-1)}{v(t,q)} \\right\\} = 0.\n",
    "\\end{eqnarray*}\n",
    "\n",
    "Finally, we obtain a system of linear ODEs\n",
    "\n",
    "\\begin{eqnarray*}\n",
    "&& \\dot v(t, q) = \\alpha\\,\\frac{\\sigma^2}{2} \\mu \\, q^2 v(t, q) - \\eta \\left\\{\n",
    "v(t, q+1) + v(t, q-1) \\right\\}.\n",
    "\\end{eqnarray*}\n",
    "\n",
    "with terminal condition $v(T, q) = 1$!\n",
    "\n",
    "By restricting $-Q \\leq q \\leq Q$, for some $Q > 0$ and further imposing the boundary conditions \n",
    "\n",
    "\\begin{eqnarray*}\n",
    "&& \\dot v(t, Q) = \\alpha\\,\\frac{\\sigma^2}{2} \\mu \\, q^2 v(t, Q) - \\eta\n",
    "v(t, Q - 1), \\\\\n",
    "&& \\dot v(t, -Q) = \\alpha\\,\\frac{\\sigma^2}{2} \\mu \\, q^2 v(t, -Q) - \\eta v(t, -Q+1),\n",
    "\\end{eqnarray*}\n",
    "\n",
    "[Guéant, Lehalle and Fernandez-Tapia]<sup id=\"cite_ref-GFL\" class=\"reference\"><a href=\"#cite_note-GFL\">[5]</a></sup> showed that $J(t, x, S, q) = -e^{-\\alpha(x + qS)} v^{-\\frac\\alpha\\mu}(t, q)$ is the value function of the control problem."
   ]
  },
  {
   "cell_type": "markdown",
   "metadata": {},
   "source": [
    "### Optimal bid, ask, and spread\n",
    "\n",
    "Thus, the optimal bid $B$ is given by \n",
    "\n",
    "\\begin{eqnarray*}\n",
    "B &=& S - \\delta^B = \\theta(t, S, q+1) - \\theta(t, S, q) - \\frac{1}{\\alpha} \\, \\log\\left(1 + \\frac\\alpha{\\mu} \\right) \\\\\n",
    "&=& S - \\frac1\\mu \\log\\frac{v(t, q)}{v(t, q+1)} - \\frac1\\alpha\\log\\left(1 + \\frac\\alpha\\mu \\right). \n",
    "\\end{eqnarray*}\n",
    "\n",
    "Similary, the optimal ask $A$ is given by \n",
    "\n",
    "\\begin{eqnarray*}\n",
    "A &=& S + \\delta^A = S + \\frac1\\mu \\log\\frac{v(t, q)}{v(t, q-1)} + \\frac1\\alpha\\log\\left(1 + \\frac\\alpha\\mu \\right).\n",
    "\\end{eqnarray*}\n",
    "\n",
    "Thus, the bid-ask spread $s$ is given by\n",
    "\n",
    "$$\n",
    "s = A - B = \\frac1\\mu \\log\\frac{v^2(t, q)}{v(t, q+1)v(t, q-1)} + \\frac2\\alpha\\log\\left(1 + \\frac\\alpha\\mu \\right).\n",
    "$$"
   ]
  },
  {
   "cell_type": "markdown",
   "metadata": {},
   "source": [
    "### Large time asymptotics of optimal bid, ask, and spread\n",
    "\n",
    "- The optimal bid and ask prices obtained depends on the terminal horizon $T$.\n",
    "-  Intuitively, the closer the dealer is to time $T$, the less risky his inventory in stock is, since it can be liquidated at the mid price $S_T$.\n",
    "- For a market-making business, (we hope) there should be no such final time.\n",
    "\n",
    "By taking the limit as $T \\to \\infty$ in the optimal bid $B$ and ask $A$, [Guéant, Lehalle and Fernandez-Tapia]<sup id=\"cite_ref-GFL\" class=\"reference\"><a href=\"#cite_note-GFL\">[5]</a></sup> obtained that \n",
    "\n",
    "\\begin{eqnarray*}\n",
    "&& B_\\infty := \\lim_{T \\to \\infty} B = S - \\frac1\\mu \\log\\frac{v_\\infty(q)}{v_\\infty( q+1)} - \\frac1\\alpha\\log\\left(1 + \\frac\\alpha\\mu \\right), \\\\\n",
    "&& \\\\\n",
    "&& A_\\infty := \\lim_{T \\to \\infty} A = S + \\frac1\\mu \\log\\frac{v_\\infty(q)}{v_\\infty( q-1)} + \\frac1\\alpha\\log\\left(1 + \\frac\\alpha\\mu \\right), \\\\\n",
    "\\end{eqnarray*}\n",
    "\n",
    "where $v_\\infty(\\cdot)$ is given by\n",
    "\n",
    "<a name=\"eq:vinfty\"></a>(13)\n",
    "$$\n",
    "v_\\infty = \\mathop{{\\rm argmax}}_{\\|u\\|_2 = 1} \\left\\{ \\sum_{q=-Q}^Q \\frac\\mu2 \\alpha\\sigma^2q^2u(q)^2 + \\eta \\sum_{q=-Q}^{Q-1}\\{u(q + 1) - u(q)\\}^2 + \\eta \\{ u(Q)^2 + u(-Q)^2\\} \\right\\}.\n",
    "$$\n",
    "\n",
    "Hence, the spread as $T \\to \\infty$ reads\n",
    "\n",
    "$$\n",
    "s_\\infty = A_\\infty - B_\\infty = \\frac1\\mu \\log\\frac{v^2_\\infty(q)}{v_\\infty(q+1)v_\\infty(q-1)} + \\frac2\\alpha\\log\\left(1 + \\frac\\alpha\\mu \\right).\n",
    "$$\n"
   ]
  },
  {
   "cell_type": "markdown",
   "metadata": {},
   "source": [
    "### Approximate asymptotic optimal bid and ask\n",
    "\n",
    "Finally, by furhter approximate $v_\\infty(\\cdot)$ by the solution $\\tilde v$ to the following variational problem \n",
    "\n",
    "$$\n",
    "\\tilde v = \\mathop{{\\rm argmax}}_{\\|\\tilde u\\|_2 = 1} \\left\\{ \\int_{-\\infty}^\\infty \\left[\\frac\\mu2 \\alpha\\sigma^2 x^2 \\tilde u^2(x) + \\eta |\\tilde u'(x)|^2 \\right] dx \\right\\},\n",
    "$$\n",
    "\n",
    "[Gu&eacute;ant, Lehalle and Fernandez-Tapia]<sup id=\"cite_ref-GFL\" class=\"reference\"><a href=\"#cite_note-GFL\">[4]</a></sup> obtain the following approximation:\n",
    "\n",
    "$$\n",
    "    \\begin{eqnarray*}\n",
    "    \\delta_B &\\approx& \\frac{1}{\\alpha}\\,\\log\\left(1 + \\frac{\\alpha}{\\mu}\\right) + \\left(q + \\frac12 \\right)\\,\\sqrt{\\frac{\\sigma^2\\,\\alpha}{2\\,\\mu\\,\\eta}}, \\\\\n",
    "    && \\\\\n",
    "    \\delta_A &\\approx&  \\frac{1}{\\alpha}\\,\\log\\left(1+\\frac{\\alpha}{\\mu}\\right) - \\left(q - \\frac12\\right)\\,\\sqrt{\\frac{\\sigma^2\\,\\alpha}{2\\,k\\,\\eta}}.\n",
    "    \\end{eqnarray*}\n",
    " $$   \n"
   ]
  },
  {
   "cell_type": "markdown",
   "metadata": {
    "slideshow": {
     "slide_type": "slide"
    }
   },
   "source": [
    "### More realistic order arrival rates\n",
    "\n",
    "Avellaneda and Stoikov suggest estimate the arrival rate $\\lambda(\\cdot)$ as follows:\n",
    "\n",
    "- Assume that the density of market order size is   \n",
    "    $$\n",
    "    f(x) \\propto \\frac{1}{x^{1+\\nu}}.\n",
    "    $$\n",
    "    It is a stylized fact that $\\nu \\approx 3/2$.\n",
    "\n",
    "\n",
    "- Assume that market impact is given roughly by\n",
    "    $$\n",
    "    \\Delta p \\propto x^\\beta\n",
    "    $$\n",
    "    where $x$ is order size.  Another stylized fact is that $\\beta \\sim 1/2$.\n"
   ]
  },
  {
   "cell_type": "markdown",
   "metadata": {
    "slideshow": {
     "slide_type": "subslide"
    }
   },
   "source": [
    "Let $\\delta$ be distance from the best quote and assume that order arrival rates are constant in aggregate.  Then the rate of arrival of market orders at $\\delta$ can be (handwavingly) estimated as:\n",
    "\n",
    "\\begin{eqnarray*}\n",
    "\\lambda(\\delta) &\\approx& \\Pr(\\Delta p > \\delta)\\\\\n",
    "&\\propto &\\Pr(x > \\delta^{1/\\beta})\\\\\n",
    "&\\propto &\\int_{\\delta^{1/\\beta}}^\\infty\\,\\frac{dx}{x^{1+\\nu}}\\\\\n",
    "&=&\\frac{1}{\\nu}\\,\\delta^{-\\nu/\\beta}\n",
    "\\end{eqnarray*}"
   ]
  },
  {
   "cell_type": "markdown",
   "metadata": {
    "slideshow": {
     "slide_type": "subslide"
    }
   },
   "source": [
    "Substituting $\\nu=3/2$ and $\\beta=1/2$ gives\n",
    "\n",
    "$$\n",
    "\\lambda(\\delta) \\sim \\frac{1}{\\delta^3}\n",
    "$$\n",
    "\n",
    "This is nothing other than the famous cubic law of [Gabaix et al.]<sup id=\"cite_ref-GabaixEtAl\" class=\"reference\"><a href=\"#cite_note-GabaixEtAl\">[4]</a></sup>"
   ]
  },
  {
   "cell_type": "markdown",
   "metadata": {},
   "source": [
    "Then\n",
    "\n",
    "$$\n",
    "\\frac{\\lambda'(\\delta)}{\\lambda(\\delta)} \\approx -\\frac{3}{\\delta}\n",
    "$$\n",
    "\n",
    "and recalling that first order criterion that $\\delta^B$ satisfies\n",
    "\n",
    "\\begin{eqnarray*}\n",
    "&& \\delta^B = S - \\theta(t, S, q+1) + \\theta(t, S, q) + \\frac{1}{\\alpha} \\, \\log\\left(1 - \\alpha\\, \\frac{\\lambda_B(\\delta^B)}{\\lambda_B'(\\delta^B)}\\right) \\\\\n",
    "&=& S - \\theta(t, S, q+1) + \\theta(t, S, q) + \\frac{1}{\\alpha}\\,\\log\\left(1 + \\alpha\\,\\frac{\\delta_B}3\\right) \\\\\n",
    "&\\approx& S - \\theta(t, S, q+1) + \\theta(t, S, q) + \\frac{\\delta_B}3.\n",
    "\\end{eqnarray*}\n",
    "\n",
    "Thus, the optimal $\\delta^B$ is approximately \n",
    "\n",
    "$$\n",
    "\\delta^B \\approx \\frac32\\left\\{ S - \\theta(t, S, q+1) + \\theta(t, S, q) \\right\\}. \n",
    "$$\n",
    "\n",
    "Similarly, \n",
    "\n",
    "$$\n",
    "\\delta^A \\approx \\frac32\\left\\{ \\theta(t, S, q) - \\theta(t, S, q-1) - S \\right\\}.\n",
    "$$\n",
    "\n",
    "Next we would repeat the whole procedure as in the case of exponential arrival rate in order to find the optimal prices. However, unfortunately in this case a closed-form expression as neat as in the exponential arrival case is not accessible. One has to resort to numerical methods for solving the resulting equation. "
   ]
  },
  {
   "cell_type": "markdown",
   "metadata": {
    "slideshow": {
     "slide_type": "slide"
    }
   },
   "source": [
    "### Fair price $P$\n",
    "\n",
    "- We may repeat the foregoing analysis with the current stock price $S$ replaced with the market maker's private valuation $P$ (which we may think of as the fair price of the stock).\n",
    "    - $P$ may be estimated by observing the state of the order book.\n",
    "    - $\\lambda_A$ and $\\lambda_B$ may be\n",
    "    estimated using the autocorrelation of order flow.\n"
   ]
  },
  {
   "cell_type": "markdown",
   "metadata": {},
   "source": [
    "### Infinite horizon objective\n",
    "\n",
    "Alternative in the setting of infinite horizon, Avellaneda and Stoikov suggest considering an expected discounted cumulative utility of the form\n",
    "\n",
    "\\begin{eqnarray*}\n",
    "\\max_{\\delta^A, \\delta^B} \\E\\left[-\\int_0^\\infty\\,e^{-\\omega\\,t}\\,e^{-\\alpha\\,(x_t + q_t\\,S_t)} \\, dt\\right].    \n",
    "\\end{eqnarray*}\n",
    "\n",
    "- The value function $U$ in this case is hence given by\n",
    "\n",
    "   $$ \\begin{eqnarray*}\n",
    "    U(x, S, q) = \\max_{\\delta^A, \\delta^B} \\E\\left[\\left. -\\int_0^\\infty\\,e^{-\\omega\\,t}\\,e^{-\\alpha\\,(x_t + q_t\\,S_t)}\\,dt\\right| x_0 = x, S_0 = S, q_0 = q\\right].    \n",
    "    \\end{eqnarray*}\n",
    "    $$\n",
    "    \n",
    "- The value function $U$ satisfies the following HJB equation\n",
    "\n",
    "    $$\n",
    "    \\begin{eqnarray*}\n",
    "    && -\\omega U + \\frac{\\sigma^2}{2}\\,\\p_S^2 U \\\\\n",
    "    && + \\max_{\\delta^B}\\,\\lambda_B(\\delta^B)\\,\\left[U(t,x - S + \\delta^B, S, q+1)-U(t,x,S,q)\\right] \\\\\n",
    "    && + \\max_{\\delta^A}\\,\\lambda_A(\\delta^A)\\,\\left[U(t,x + S + \\delta^A, S, q-1)-U(t,x,S,q)\\right] \\\\\n",
    "    && = 0\n",
    "    \\end{eqnarray*}\n",
    "    $$\n",
    "    with the *transversality condition* \n",
    "    $$\n",
    "    \\lim_{T\\to\\infty} e^{-\\omega T} \\Eof{|U(x_T, S_T, q_T)|} = 0\n",
    "    $$ \n",
    "    for any admissible control $\\delta^B$ and $\\delta^A$.\n",
    "\n",
    "- Likewise, we may apply the ansatz $U(x, S, q) = e^{-\\alpha (x + \\theta(S, q))}$ to reduce the HJB equation.\n"
   ]
  },
  {
   "cell_type": "markdown",
   "metadata": {
    "slideshow": {
     "slide_type": "slide"
    }
   },
   "source": [
    "### Adding market orders\n",
    "\n",
    "- The frameworks of both [Avellaneda and Stoikov]<sup id=\"cite_ref-AvellanedaStoikov\" class=\"reference\"><a href=\"#cite_note-AvellanedaStoikov\">[1]</a></sup> and [Gu&eacute;ant, Lehalle and Fernandez-Tapia]<sup id=\"cite_ref-GFL\" class=\"reference\"><a href=\"#cite_note-GFL\">[4]</a></sup> assume that the market maker’s problem is to place limit orders optimally so as to maximize utility assuming Poisson arrivals of market orders.\n",
    "    - The optimal limit price could easily be outside the current spread.\n",
    "\n",
    "\n",
    "- In practice, it could obviously be optimal for the market maker to sometimes cross the spread and send market orders to reduce inventory."
   ]
  },
  {
   "cell_type": "markdown",
   "metadata": {
    "slideshow": {
     "slide_type": "subslide"
    }
   },
   "source": [
    "- In the more realistic setup of [Guilbaud and Pham]<sup id=\"cite_ref-GPham\" class=\"reference\"><a href=\"#cite_note-GPham\">[6]</a></sup>, the market maker may post limit orders at the best bid and offer prices, improve the spread, or send market orders.\n",
    "    - Market order arrival rates are allowed to be time-dependent (as they are in practice).\n",
    "    - Market order arrival rates are additionally (real-time estimated) functions of the spread."
   ]
  },
  {
   "cell_type": "markdown",
   "metadata": {
    "slideshow": {
     "slide_type": "slide"
    }
   },
   "source": [
    "### Guilbaud and Pham solution\n",
    "\n",
    "- The resulting HJB equation is discretized and solved numerically.\n",
    "    - Obviously too complicated to solve analytically.\n",
    "\n",
    "\n",
    "- Pseudo-code is provided to facilitate implementation of the algorithm."
   ]
  },
  {
   "cell_type": "markdown",
   "metadata": {
    "slideshow": {
     "slide_type": "subslide"
    }
   },
   "source": [
    "- The algorithm is tested on simulated data and compared with the following three strategies:\n",
    "    - WoMO: Same strategy with no market orders\n",
    "    - Cst: Place constant quantities on each of the best quotes\n",
    "    - Place constant quantity on each side at random prices that are at the best quote or improve the spread."
   ]
  },
  {
   "cell_type": "markdown",
   "metadata": {
    "slideshow": {
     "slide_type": "slide"
    }
   },
   "source": [
    "### Guilbaud and Pham simulation results\n",
    "\n",
    "<h2><img src=\"http://mfe.baruch.cuny.edu/wp-content/uploads/2015/02/GPsimResults.png\" align = \"center\" width=700></h2>"
   ]
  },
  {
   "cell_type": "markdown",
   "metadata": {
    "slideshow": {
     "slide_type": "slide"
    }
   },
   "source": [
    "### Guilbaud and Pham optimal frontier\n",
    "\n",
    "<h2><img src=\"http://mfe.baruch.cuny.edu/wp-content/uploads/2015/02/GPoptimalFrontier.png\" align = \"center\" width=700></h2>\n"
   ]
  },
  {
   "cell_type": "markdown",
   "metadata": {
    "slideshow": {
     "slide_type": "slide"
    }
   },
   "source": [
    "### Final remarks\n",
    "\n",
    "- All inventory models have the following characteristics:\n",
    "    - It is optimal for the market maker to keep inventory close to zero.\n",
    "    - There will therefore be market impact\n",
    "        - Market sells cause the price to decrease.\n",
    "        - Market buys cause the price to increase.\n",
    "    - The spread is compensation for risk.\n",
    "        - The spread is increasing in volatility and in the price of risk."
   ]
  },
  {
   "cell_type": "markdown",
   "metadata": {
    "slideshow": {
     "slide_type": "subslide"
    }
   },
   "source": [
    "- In real markets, as in [Guilbaud and Pham]<sup id=\"cite_ref-GPham\" class=\"reference\"><a href=\"#cite_note-GPham\">[6]</a></sup>, as in the case of big tick stocks, the spread is given.\n",
    "    - A market maker either joins or improves the best quote, or does no business.\n",
    "\n",
    "- Market order arrival rates are not symmetric: they depend on the book imbalance $\\mathcal{I}$.\n",
    "    - [Cartea, Donnelly and Jaimungal]<sup id=\"cite_ref-CDJ\" class=\"reference\"><a href=\"#cite_note-CDJ\">[2]</a></sup> solve an optimal control problem to find the optimal placement of limit orders using the book imbalance."
   ]
  },
  {
   "cell_type": "markdown",
   "metadata": {
    "slideshow": {
     "slide_type": "slide"
    }
   },
   "source": [
    "### References\n",
    "\n",
    "<br />\n",
    "\n",
    "<div class=\"reflist\" style=\"list-style-type: decimal;\">\n",
    "\n",
    "<ol>\n",
    "\n",
    "  <li id=\"cite_note-AvellanedaStoikov\"><span class=\"mw-cite-backlink\"><b><a href=\"#cite_ref-AvellanedaStoikov\">^</a></b></span> Marco Avellaneda and Sasha Stoikov, High-frequency trading in a limit order book, <span>*Quantitative Finance*</span> <span>**8**</span>(3), 217–224, (2008).</li>\n",
    "  \n",
    "   <li id=\"cite_note-CDJ\"><span class=\"mw-cite-backlink\"><b><a href=\"#cite_ref-CDJ\">^</a></b></span> Álvaro Cartea,\n",
    "Ryan Donnelly and Sebastian Jaimungal, Enhancing trading strategies with order book signals, *SSRN*  available at https://papers.ssrn.com/sol3/papers.cfm?abstract_id=2668277 (2015).</li>\n",
    "  \n",
    "  <li id=\"cite_note-FS\"><span class=\"mw-cite-backlink\"><b><a href=\"#cite_ref-FS\">^</a></b></span> Hans F&ouml;llmer  and Alexander Schied, *Stochastic Finance: An Introduction in Discrete Time*, De Gruyter, Berlin (2011). </li>\n",
    "  \n",
    "  <li id=\"cite_note-GabaixEtAl\"><span class=\"mw-cite-backlink\"><b><a href=\"#cite_ref-GabaixEtAl\">^</a></b></span>   Xavier Gabaix, Parameswaran Gopikrishnan, Vasiliki Plerou and  H. Eugene Stanley,  Understanding the cubic and half-cubic laws of financial fluctuations, <span>*Physica A: Statistical Mechanics and its Applications*</span> <span>**324**</span>(1-2), 1-5, (2003).</li>\n",
    "  \n",
    "  <li id=\"cite_note-GFL\"><span class=\"mw-cite-backlink\"><b><a href=\"#cite_ref-GFL\">^</a></b></span> Olivier Gu&eacute;ant, Charles-Albert Lehalle, and Joaquin Fernandez-Tapia, Dealing with the inventory risk: a solution to the market making problem, <span>*Mathematics and Financial Economics*</span> <span>**7**</span>(4), 477-507, (2013). </li>\n",
    "\n",
    "  <li id=\"cite_note-GPham\"><span class=\"mw-cite-backlink\"><b><a href=\"#cite_ref-GPham\">^</a></b></span> Fabien Guilbaud and Huy&ecirc;n Pham, Optimal high-frequency trading with limit and market orders, <span>*Quantitative Finance*</span> <span>**13**</span>(1), 79-94, (2013). </li>\n",
    "  \n",
    "  <li id=\"cite_note-Hasbrouck\"><span class=\"mw-cite-backlink\"><b><a href=\"#cite_ref-Hasbrouck\">^</a></b></span>   Joel Hasbrouck, <span>*Empirical Market Microstructure*</span>, Oxford\n",
    "University Press, Chapter 11, (2007).</li>\n",
    "\n",
    "  <li id=\"cite_note-Menkveld\"><span class=\"mw-cite-backlink\"><b><a href=\"#cite_ref-Menkveld\">^</a></b></span>   Albert J Menkveld, High frequency trading and the new-market makers, <span>*Journal of Financial Markets* **16**(4), 712-740</span>, (2013).</li>\n",
    "\n",
    "\n",
    "</ol>"
   ]
  }
 ],
 "metadata": {
  "celltoolbar": "Slideshow",
  "kernelspec": {
   "display_name": "R",
   "language": "R",
   "name": "ir"
  },
  "language_info": {
   "codemirror_mode": "r",
   "file_extension": ".r",
   "mimetype": "text/x-r-source",
   "name": "R",
   "pygments_lexer": "r",
   "version": "3.5.1"
  }
 },
 "nbformat": 4,
 "nbformat_minor": 1
}
